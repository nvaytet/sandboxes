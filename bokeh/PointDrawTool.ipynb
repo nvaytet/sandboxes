{
 "cells": [
  {
   "cell_type": "code",
   "execution_count": null,
   "id": "57d63267",
   "metadata": {},
   "outputs": [],
   "source": [
    "import numpy as np\n",
    "from bokeh.plotting import figure, show\n",
    "from bokeh.layouts import column\n",
    "from bokeh.models import DataTable, TableColumn, PointDrawTool, ColumnDataSource, TextAreaInput\n",
    "from bokeh.io import output_notebook\n",
    "output_notebook()"
   ]
  },
  {
   "cell_type": "code",
   "execution_count": null,
   "id": "e5b23b84",
   "metadata": {},
   "outputs": [],
   "source": [
    "N = 50\n",
    "M = 40\n",
    "L = 30\n",
    "xx = np.arange(N, dtype=np.float64)\n",
    "yy = np.arange(M, dtype=np.float64)\n",
    "zz = np.arange(L, dtype=np.float64)\n",
    "x, y, z = np.meshgrid(xx, yy, zz, indexing='ij')\n",
    "b = N/20.0\n",
    "c = M/2.0\n",
    "d = L/2.0\n",
    "r = np.sqrt(((x-c)/b)**2 + ((y-c)/b)**2 + ((z-d)/b)**2)\n",
    "a = np.sin(r)\n",
    "a.shape"
   ]
  },
  {
   "cell_type": "code",
   "execution_count": null,
   "id": "8e265e06",
   "metadata": {},
   "outputs": [],
   "source": [
    "class Plotter:\n",
    "    def __init__(self, data=None):\n",
    "        self.doc = None\n",
    "        self.renderer = None\n",
    "        self.data = data\n",
    "\n",
    "    def profile_handler(self, attr, old, new):\n",
    "        if len(new[\"x\"]) > len(old[\"x\"]):\n",
    "            ind = -1\n",
    "            new_line = True\n",
    "        else:\n",
    "            ind = np.argmax(np.array(old['x']) != np.array(new['x']))\n",
    "            new_line = False\n",
    "        dx = 40.0 / 20.0\n",
    "        dy = 50.0 / 15.0\n",
    "        i = int(new['x'][ind] / dx)\n",
    "        j = int(new['y'][ind] / dy)\n",
    "        s1 = \"{}, {}, {}, {}, {}\".format(ind, i, j, new['x'][ind], dx)\n",
    "        s2 = str(old)\n",
    "        s3 = str(new)\n",
    "        s4 = str(old['x'] != new['x'])\n",
    "        self.text_area_input.value = \"{}\\n{}\\n{}\\n{}\".format(s1, s2, s3, s4)\n",
    "        if new_line:\n",
    "            self.lines.append(self.profile.line(np.arange(self.data.shape[-1]), self.data[j, i, :],\n",
    "                                   color=\"#8888cc\", line_width=1.5, alpha=0.8))\n",
    "        else:\n",
    "            self.lines[ind].data_source.data['y'] = self.data[j, i, :]\n",
    "\n",
    "        \n",
    "    def modify_doc(self, doc):\n",
    "        self.doc=doc\n",
    "#         p = figure(title='scope')\n",
    "#         p.background_fill_color = 'lightgrey'\n",
    "\n",
    "        p = figure(\n",
    "           plot_width=500, plot_height=400)\n",
    "        p.x_range.range_padding = p.y_range.range_padding = 0\n",
    "\n",
    "#         # must give a vector of image data for image parameter\n",
    "        self.image_renderer = p.image(image=[self.data[..., 0]], x=0, y=0, dw=20, dh=15,\n",
    "                                      palette=\"Viridis256\", level=\"image\")\n",
    "\n",
    "#         source = ColumnDataSource({\n",
    "#             'x': self.scatter[:, 0], 'y': self.scatter[:, 1],\n",
    "# #             'color': ['red', 'green', 'yellow']\n",
    "#         })\n",
    "    \n",
    "        self.source = ColumnDataSource({\n",
    "            'x': [], 'y': [],\n",
    "#             'color': ['red', 'green', 'yellow']\n",
    "        })\n",
    "\n",
    "#         self.renderer = p.scatter(x='x', y='y', source=source, color='color', size=10)\n",
    "        self.renderer = p.scatter(x='x', y='y', source=self.source, size=10)\n",
    "#         columns = [TableColumn(field=\"x\", title=\"x\"),\n",
    "#                    TableColumn(field=\"y\", title=\"y\"),\n",
    "#                    TableColumn(field='color', title='color')]\n",
    "#         self.table = DataTable(source=self.source, columns=columns, editable=True, height=200)\n",
    "\n",
    "\n",
    "#         text_input = TextInput(value=\"default\", title=\"Label:\")\n",
    "        self.source.on_change(\"data\", self.profile_handler)\n",
    "        \n",
    "        draw_tool = PointDrawTool(renderers=[self.renderer], empty_value='black')\n",
    "        p.add_tools(draw_tool)\n",
    "#         p.toolbar.active_tap = draw_tool\n",
    "\n",
    "        \n",
    "        self.profile = figure(plot_width=500, plot_height=250)\n",
    "        self.lines = []\n",
    "        \n",
    "        self.text_area_input = TextAreaInput(value=\"default\", rows=6, title=\"Label:\")\n",
    "        \n",
    "        self.doc.add_root(column(p, self.profile, self.text_area_input))\n",
    "#         self.doc.add_root(column(p, self.text_area_input))\n",
    "#         self.doc.add_root(column(p))"
   ]
  },
  {
   "cell_type": "code",
   "execution_count": null,
   "id": "125d5eaa",
   "metadata": {},
   "outputs": [],
   "source": [
    "p = Plotter(data=a)"
   ]
  },
  {
   "cell_type": "code",
   "execution_count": null,
   "id": "479c3cbe",
   "metadata": {
    "scrolled": false
   },
   "outputs": [],
   "source": [
    "show(p.modify_doc, notebook_url=\"localhost:8892\")"
   ]
  },
  {
   "cell_type": "code",
   "execution_count": null,
   "id": "bb20d9f3",
   "metadata": {
    "scrolled": false
   },
   "outputs": [],
   "source": [
    "p.renderer.data_source.data"
   ]
  },
  {
   "cell_type": "code",
   "execution_count": null,
   "id": "8caca35f",
   "metadata": {},
   "outputs": [],
   "source": [
    "p.table.source.data"
   ]
  },
  {
   "cell_type": "code",
   "execution_count": null,
   "id": "f865f3b8",
   "metadata": {},
   "outputs": [],
   "source": []
  },
  {
   "cell_type": "code",
   "execution_count": null,
   "id": "17d9699a",
   "metadata": {},
   "outputs": [],
   "source": [
    "x = np.array([1, 2, 3, 4])\n",
    "y = np.array([1, 2, 6, 4])\n",
    "np.argmax(x != y)"
   ]
  },
  {
   "cell_type": "code",
   "execution_count": null,
   "id": "cf2d9e8c",
   "metadata": {},
   "outputs": [],
   "source": [
    "x != y"
   ]
  },
  {
   "cell_type": "code",
   "execution_count": null,
   "id": "9254210f",
   "metadata": {},
   "outputs": [],
   "source": []
  },
  {
   "cell_type": "code",
   "execution_count": null,
   "id": "ecb0dff0",
   "metadata": {},
   "outputs": [],
   "source": []
  },
  {
   "cell_type": "code",
   "execution_count": null,
   "id": "c875a264",
   "metadata": {},
   "outputs": [],
   "source": []
  },
  {
   "cell_type": "code",
   "execution_count": null,
   "id": "307e5b9e",
   "metadata": {},
   "outputs": [],
   "source": []
  }
 ],
 "metadata": {
  "kernelspec": {
   "display_name": "Python 3",
   "language": "python",
   "name": "python3"
  },
  "language_info": {
   "codemirror_mode": {
    "name": "ipython",
    "version": 3
   },
   "file_extension": ".py",
   "mimetype": "text/x-python",
   "name": "python",
   "nbconvert_exporter": "python",
   "pygments_lexer": "ipython3",
   "version": "3.9.1"
  }
 },
 "nbformat": 4,
 "nbformat_minor": 5
}
