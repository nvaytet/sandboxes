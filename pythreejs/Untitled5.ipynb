{
 "cells": [
  {
   "cell_type": "code",
   "execution_count": 1,
   "metadata": {},
   "outputs": [],
   "source": [
    "import pythreejs as p3\n",
    "import numpy as np"
   ]
  },
  {
   "cell_type": "code",
   "execution_count": 2,
   "metadata": {},
   "outputs": [],
   "source": [
    "size_x = 1.0\n",
    "size_y = 1.0\n",
    "size_z = 1.0\n",
    "detector_shape = np.array([[-0.5*size_x, -0.5*size_y, -0.5*size_z],\n",
    "                           [ 0.5*size_x, -0.5*size_y, -0.5*size_z],\n",
    "                           [ 0.5*size_x,  0.5*size_y, -0.5*size_z],\n",
    "                           [-0.5*size_x,  0.5*size_y, -0.5*size_z],\n",
    "                           [-0.5*size_x, -0.5*size_y,  0.5*size_z],\n",
    "                           [ 0.5*size_x, -0.5*size_y,  0.5*size_z],\n",
    "                           [ 0.5*size_x,  0.5*size_y,  0.5*size_z],\n",
    "                           [-0.5*size_x,  0.5*size_y,  0.5*size_z]], dtype=np.float32)"
   ]
  },
  {
   "cell_type": "code",
   "execution_count": 3,
   "metadata": {},
   "outputs": [],
   "source": [
    "detector_faces = np.array([[0,4,3],\n",
    "                  [3,4,7],\n",
    "                  [1,2,6],\n",
    "                  [1,6,5],\n",
    "                  [0,1,5],\n",
    "                  [0,5,4],\n",
    "                  [2,3,7],\n",
    "                  [2,7,6],\n",
    "                  [0,2,1],\n",
    "                  [0,3,2],\n",
    "                  [4,5,7],\n",
    "                  [5,6,7]], dtype=np.uint32)"
   ]
  },
  {
   "cell_type": "code",
   "execution_count": 39,
   "metadata": {},
   "outputs": [
    {
     "name": "stdout",
     "output_type": "stream",
     "text": [
      "(800000, 3)\n",
      "(1200000, 3)\n",
      "(800000, 3)\n"
     ]
    },
    {
     "data": {
      "application/vnd.jupyter.widget-view+json": {
       "model_id": "dcc3bea2915e408fb20ffb6cec2941f2",
       "version_major": 2,
       "version_minor": 0
      },
      "text/plain": [
       "Renderer(camera=PerspectiveCamera(aspect=1.5, position=(0.0, 0.0, 50.0), quaternion=(0.0, 0.0, 0.0, 1.0), scal…"
      ]
     },
     "metadata": {},
     "output_type": "display_data"
    }
   ],
   "source": [
    "N = 100000\n",
    "M = len(detector_shape)\n",
    "L = len(detector_faces)\n",
    "\n",
    "offsets = (np.random.random([N, 3]).astype(np.float32) - 0.5) * 500.0\n",
    "\n",
    "# vertices = np.tile(morph.attributes[\"position\"].array, [N, 1]) + np.repeat(offsets, M, axis=0)\n",
    "vertices = np.tile(detector_shape, [N, 1]) + np.repeat(offsets, M, axis=0)\n",
    "\n",
    "# faces = np.arange(M * N, dtype=np.uint32)\n",
    "\n",
    "# faces = np.tile(detector_faces, [N, 1]) + np.repeat(np.arange(N, dtype=np.uint32), L, axis=0)\n",
    "faces = np.tile(detector_faces, [N, 1]) + np.repeat(\n",
    "    np.arange(0, N*M, M, dtype=np.uint32), L*3, axis=0).reshape(L*N, 3)\n",
    "\n",
    "\n",
    "vertexcolors = np.repeat(np.random.random([N, 3]), M, axis=0).astype(np.float32)\n",
    "\n",
    "print(vertices.shape)\n",
    "print(faces.shape)\n",
    "print(vertexcolors.shape)\n",
    "\n",
    "cubeGeometry = p3.BufferGeometry(attributes=dict(\n",
    "    position=p3.BufferAttribute(vertices, normalized=False),\n",
    "    index=p3.BufferAttribute(faces.ravel(), normalized=False),\n",
    "    color=p3.BufferAttribute(vertexcolors),\n",
    "))\n",
    "\n",
    "material=p3.MeshBasicMaterial(vertexColors='VertexColors', transparent=True)\n",
    "\n",
    "mesh = p3.Mesh(\n",
    "    geometry=cubeGeometry,\n",
    "    material=material\n",
    "#     position=[-0.5, -0.5, -0.5]   # Center the cube\n",
    ")\n",
    "\n",
    "\n",
    "# cCube = p3.PerspectiveCamera(\n",
    "#     position=[3, 3, 3], fov=20,\n",
    "#     children=[DirectionalLight(color='#ffffff', position=[-3, 5, 1], intensity=0.5)])\n",
    "# sceneCube = p3.Scene(children=[myobjectCube, cCube, AmbientLight(color='#dddddd')])\n",
    "\n",
    "# rendererCube = p3.Renderer(camera=cCube, background='black', background_opacity=1,\n",
    "#                         scene = sceneCube, controls=[OrbitControls(controlling=cCube)])\n",
    "\n",
    "# rendererCube\n",
    "\n",
    "\n",
    "view_width = 600\n",
    "view_height = 400\n",
    "camera = p3.PerspectiveCamera(position=[0, 0, 50], aspect=view_width/view_height)\n",
    "# key_light = p3.DirectionalLight(position=[0, 10, 10])\n",
    "# ambient_light = p3.AmbientLight()\n",
    "scene = p3.Scene(children=[mesh, camera], background=\"#000000\")\n",
    "controller = p3.OrbitControls(controlling=camera)\n",
    "renderer = p3.Renderer(camera=camera, scene=scene, controls=[controller],\n",
    "                    width=view_width, height=view_height)\n",
    "renderer"
   ]
  },
  {
   "cell_type": "code",
   "execution_count": 38,
   "metadata": {},
   "outputs": [
    {
     "data": {
      "application/vnd.jupyter.widget-view+json": {
       "model_id": "36a2d767ecd14903a56da0ee82f0c4c1",
       "version_major": 2,
       "version_minor": 0
      },
      "text/plain": [
       "FloatSlider(value=1.0, max=1.0, step=0.01)"
      ]
     },
     "metadata": {},
     "output_type": "display_data"
    }
   ],
   "source": [
    "import ipywidgets as widgets\n",
    "def update_opacity(change):\n",
    "    material.opacity = change[\"new\"]\n",
    "sl = widgets.FloatSlider(min=0, max=1.0, value=1.0, step=0.01)\n",
    "sl.observe(update_opacity, names=\"value\")\n",
    "sl"
   ]
  },
  {
   "cell_type": "code",
   "execution_count": 19,
   "metadata": {},
   "outputs": [
    {
     "name": "stdout",
     "output_type": "stream",
     "text": [
      "Help on function to_rgb in module matplotlib.colors:\n",
      "\n",
      "to_rgb(c)\n",
      "    Convert *c* to an RGB color, silently dropping the alpha channel.\n",
      "\n"
     ]
    }
   ],
   "source": [
    "import matplotlib.colors as cols\n",
    "help(cols.to_rgb)"
   ]
  },
  {
   "cell_type": "code",
   "execution_count": 36,
   "metadata": {},
   "outputs": [],
   "source": [
    "cubeGeometry.attributes[\"position\"].array *= 1.5"
   ]
  },
  {
   "cell_type": "code",
   "execution_count": null,
   "metadata": {},
   "outputs": [],
   "source": []
  },
  {
   "cell_type": "code",
   "execution_count": 46,
   "metadata": {},
   "outputs": [],
   "source": [
    "cubeGeometry.attributes[\"color\"].array = np.repeat(np.random.random([N, 3]), M, axis=0).astype(np.float32)"
   ]
  },
  {
   "cell_type": "code",
   "execution_count": 7,
   "metadata": {},
   "outputs": [
    {
     "name": "stderr",
     "output_type": "stream",
     "text": [
      "/home/nvaytet/software/miniconda3/lib/python3.7/site-packages/pythreejs/traits.py:191: UserWarning: 64-bit data types not supported for WebGL data, casting to 32-bit.\n",
      "  warnings.warn('64-bit data types not supported for WebGL '\n"
     ]
    },
    {
     "data": {
      "text/plain": [
       "array([    0,     1,     2, ..., 35997, 35998, 35999], dtype=uint32)"
      ]
     },
     "execution_count": 7,
     "metadata": {},
     "output_type": "execute_result"
    }
   ],
   "source": [
    "p3.BufferAttribute(faces, normalized=False).array"
   ]
  },
  {
   "cell_type": "code",
   "execution_count": 4,
   "metadata": {},
   "outputs": [
    {
     "data": {
      "text/plain": [
       "array([[0.98411846, 0.21984717, 0.77970195],\n",
       "       [0.98411846, 0.21984717, 0.77970195],\n",
       "       [0.98411846, 0.21984717, 0.77970195],\n",
       "       ...,\n",
       "       [0.16643964, 0.9236231 , 0.0623299 ],\n",
       "       [0.16643964, 0.9236231 , 0.0623299 ],\n",
       "       [0.16643964, 0.9236231 , 0.0623299 ]], dtype=float32)"
      ]
     },
     "execution_count": 4,
     "metadata": {},
     "output_type": "execute_result"
    }
   ],
   "source": [
    "vertexcolors"
   ]
  },
  {
   "cell_type": "code",
   "execution_count": 21,
   "metadata": {},
   "outputs": [
    {
     "data": {
      "application/vnd.jupyter.widget-view+json": {
       "model_id": "f08a2e7a5cc048b1997f7cdfe9d07257",
       "version_major": 2,
       "version_minor": 0
      },
      "text/plain": [
       "Preview(child=BoxGeometry(), shadowMap=WebGLShadowMap())"
      ]
     },
     "metadata": {},
     "output_type": "display_data"
    }
   ],
   "source": [
    "box = p3.BoxGeometry()\n",
    "box"
   ]
  },
  {
   "cell_type": "code",
   "execution_count": 30,
   "metadata": {},
   "outputs": [
    {
     "data": {
      "application/vnd.jupyter.widget-view+json": {
       "model_id": "fd95acd2d54248bcbe770c3da5109ebd",
       "version_major": 2,
       "version_minor": 0
      },
      "text/plain": [
       "Preview(child=LineSegments(geometry=WireframeGeometry(geometry=BoxGeometry()), material=LineBasicMaterial(), q…"
      ]
     },
     "metadata": {},
     "output_type": "display_data"
    }
   ],
   "source": [
    "p3.LineSegments(p3.WireframeGeometry(box), material=p3.LineBasicMaterial())"
   ]
  },
  {
   "cell_type": "code",
   "execution_count": 31,
   "metadata": {},
   "outputs": [
    {
     "data": {
      "application/vnd.jupyter.widget-view+json": {
       "model_id": "47c5b3748cc040a9be5acb5f987efc13",
       "version_major": 2,
       "version_minor": 0
      },
      "text/plain": [
       "Text(value='hello')"
      ]
     },
     "metadata": {},
     "output_type": "display_data"
    }
   ],
   "source": [
    "t = widgets.Text(\"hello\")\n",
    "t"
   ]
  },
  {
   "cell_type": "code",
   "execution_count": 32,
   "metadata": {},
   "outputs": [],
   "source": [
    "s = t.style"
   ]
  },
  {
   "cell_type": "code",
   "execution_count": 34,
   "metadata": {},
   "outputs": [
    {
     "data": {
      "application/vnd.jupyter.widget-view+json": {
       "model_id": "cb0f67b7f8cb437a8023e0e5793e00d4",
       "version_major": 2,
       "version_minor": 0
      },
      "text/plain": [
       "HTML(value='<span style=\"color: red;\">&times</span>', description='Some HTML')"
      ]
     },
     "metadata": {},
     "output_type": "display_data"
    }
   ],
   "source": [
    "widgets.HTML(\n",
    "    value='<span style=\"color: red;\">&times</span>',\n",
    "    description='Some HTML',\n",
    ")"
   ]
  },
  {
   "cell_type": "code",
   "execution_count": null,
   "metadata": {},
   "outputs": [],
   "source": []
  }
 ],
 "metadata": {
  "kernelspec": {
   "display_name": "Python 3",
   "language": "python",
   "name": "python3"
  },
  "language_info": {
   "codemirror_mode": {
    "name": "ipython",
    "version": 3
   },
   "file_extension": ".py",
   "mimetype": "text/x-python",
   "name": "python",
   "nbconvert_exporter": "python",
   "pygments_lexer": "ipython3",
   "version": "3.7.4"
  }
 },
 "nbformat": 4,
 "nbformat_minor": 2
}
