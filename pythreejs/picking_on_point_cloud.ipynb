{
 "cells": [
  {
   "cell_type": "code",
   "execution_count": 1,
   "metadata": {},
   "outputs": [],
   "source": [
    "import pythreejs as p3\n",
    "import numpy as np\n",
    "import ipywidgets as widgets\n",
    "from IPython.display import display"
   ]
  },
  {
   "cell_type": "code",
   "execution_count": 2,
   "metadata": {},
   "outputs": [],
   "source": [
    "# geometry = p3.BufferGeometry(\n",
    "#     attributes={\n",
    "#         'position':\n",
    "#         p3.BufferAttribute(array=10.0*(np.random.random([100, 3]) - 0.5)),\n",
    "#         'color':\n",
    "#         p3.BufferAttribute(array=np.random.random([100, 4]))\n",
    "#     })\n",
    "# material = p3.PointsMaterial(vertexColors='VertexColors',\n",
    "#                                          transparent=True)\n",
    "# points = p3.Points(geometry=geometry,\n",
    "#                    material=material)\n",
    "\n",
    "# geometry = p3.BoxGeometry(\n",
    "#     width=5,\n",
    "#     height=10,\n",
    "#     depth=15,\n",
    "#     widthSegments=5,\n",
    "#     heightSegments=10,\n",
    "#     depthSegments=15)\n",
    "# material = p3.MeshBasicMaterial(color='red')\n",
    "# points = p3.Mesh(geometry=geometry,\n",
    "#                    material=material)"
   ]
  },
  {
   "cell_type": "code",
   "execution_count": 3,
   "metadata": {},
   "outputs": [],
   "source": [
    "# N = 100\n",
    "# pts1 = np.random.random([N, 3]) * 50.0\n",
    "# pts1[:, 2] = 0.0\n",
    "# arr1 = p3.BufferAttribute(array=pts1)\n",
    "# geometry1 = p3.BufferGeometry(attributes={\n",
    "#     'position': arr1,\n",
    "# })\n",
    "# material1 = p3.LineBasicMaterial(color=\"red\", linewidth=4)\n",
    "# points = p3.Line(geometry=geometry1,\n",
    "#                           material=material1)"
   ]
  },
  {
   "cell_type": "code",
   "execution_count": 4,
   "metadata": {},
   "outputs": [],
   "source": [
    "N = 100000\n",
    "pts1 = np.random.random([N, 3]) * 100.0\n",
    "# pts1[:, 2] = 0.0"
   ]
  },
  {
   "cell_type": "code",
   "execution_count": 5,
   "metadata": {},
   "outputs": [],
   "source": [
    "verts = np.repeat(pts1, 3, axis=0)\n",
    "for i in range(N):\n",
    "    verts[i*3 + 0, 0] -= 1.0\n",
    "    verts[i*3 + 0, 1] -= 1.0\n",
    "    verts[i*3 + 1, 0] += 1.0\n",
    "    verts[i*3 + 1, 1] -= 1.0\n",
    "    verts[i*3 + 2, 1] += 1.0"
   ]
  },
  {
   "cell_type": "code",
   "execution_count": 6,
   "metadata": {},
   "outputs": [
    {
     "name": "stderr",
     "output_type": "stream",
     "text": [
      "/home/nvaytet/software/miniconda3/envs/scipp/lib/python3.7/site-packages/pythreejs/traits.py:203: UserWarning: 64-bit data types not supported for WebGL data, casting to 32-bit.\n",
      "  warnings.warn('64-bit data types not supported for WebGL '\n"
     ]
    }
   ],
   "source": [
    "geometry1 = p3.BufferGeometry(attributes={\n",
    "    'position': p3.BufferAttribute(array=verts),\n",
    "    'index': p3.BufferAttribute(array=np.arange(N*3, dtype=np.uint))\n",
    "})\n",
    "material1 = p3.MeshBasicMaterial(color=\"red\", side=\"DoubleSide\")\n",
    "points = p3.Mesh(geometry=geometry1,\n",
    "                          material=material1)"
   ]
  },
  {
   "cell_type": "code",
   "execution_count": 7,
   "metadata": {},
   "outputs": [],
   "source": [
    "geometry2 = p3.BufferGeometry(\n",
    "    attributes={\n",
    "        'position': p3.BufferAttribute(array=pts1),\n",
    "        'color':\n",
    "        p3.BufferAttribute(array=np.random.random([N, 4]))\n",
    "    })\n",
    "material2 = p3.PointsMaterial(vertexColors='VertexColors',\n",
    "                                         transparent=True)\n",
    "points2 = p3.Points(geometry=geometry2,\n",
    "                   material=material2)"
   ]
  },
  {
   "cell_type": "code",
   "execution_count": 11,
   "metadata": {},
   "outputs": [],
   "source": [
    "view_width = 600\n",
    "view_height = 400\n",
    "camera = p3.PerspectiveCamera(position=[20, 0, 0], aspect=view_width/view_height)\n",
    "scene = p3.Scene(children=[points2, camera], background=\"#DDDDDD\")\n",
    "# scene = p3.Scene(children=[points, points2, camera], background=\"#DDDDDD\")\n",
    "controller = p3.OrbitControls(controlling=camera)\n",
    "renderer = p3.Renderer(camera=camera, scene=scene, controls=[controller],\n",
    "                    width=view_width, height=view_height)"
   ]
  },
  {
   "cell_type": "code",
   "execution_count": 12,
   "metadata": {},
   "outputs": [],
   "source": [
    "# Picker object\n",
    "hover_picker = p3.Picker(controlling=points, event='dblclick')\n",
    "renderer.controls = renderer.controls + [hover_picker]\n",
    "\n",
    "# A sphere for representing the current point on the surface\n",
    "hover_point = p3.Mesh(geometry=p3.SphereGeometry(radius=0.5),\n",
    "                   material=p3.MeshBasicMaterial(color='hotpink'))\n",
    "scene.add(hover_point)\n",
    "\n",
    "# Have sphere follow picker point:\n",
    "widgets.jslink((hover_point, 'position'), (hover_picker, 'point'))\n",
    "\n",
    "coord_label = widgets.HTML()  # A label for showing hover picker coordinates\n",
    "\n",
    "def on_hover_change(change):\n",
    "    if hover_picker.faceIndex is not None:\n",
    "        coord_label.value = \"{}: {}\".format(hover_picker.faceIndex, pts1[hover_picker.faceIndex])\n",
    "#     coord_label.value = (\"point: {}{}\"\n",
    "#                         \"distance: {}{}\" \n",
    "#                         \"face: {}{}\"\n",
    "#                         \"faceVertices: {}{}\"\n",
    "#                         \"indices: {}{}\" \n",
    "#                         \"faceNormal: {}{}\"\n",
    "#                         \"faceIndex: {}{}\"\n",
    "#                         \"object: {}{}\"\n",
    "#                         \"uv: {}\".format(hover_picker.point, \"\\n\",\n",
    "#                                           hover_picker.distance, \"\\n\",\n",
    "#                                           hover_picker.face, \"\\n\",\n",
    "#                                           hover_picker.faceVertices, \"\\n\",\n",
    "#                                           hover_picker.indices, \"\\n\",\n",
    "#                                           hover_picker.faceNormal, \"\\n\",\n",
    "#                                           hover_picker.faceIndex, \"\\n\",\n",
    "#                                           hover_picker.object, \"\\n\",\n",
    "#                                           hover_picker.uv))\n",
    "\n",
    "on_hover_change({'new': hover_point.position})\n",
    "hover_picker.observe(on_hover_change, names=['point'])"
   ]
  },
  {
   "cell_type": "code",
   "execution_count": 13,
   "metadata": {},
   "outputs": [
    {
     "data": {
      "application/vnd.jupyter.widget-view+json": {
       "model_id": "905d0f1d942a48e08f640f58da273e91",
       "version_major": 2,
       "version_minor": 0
      },
      "text/plain": [
       "HTML(value='')"
      ]
     },
     "metadata": {},
     "output_type": "display_data"
    },
    {
     "data": {
      "application/vnd.jupyter.widget-view+json": {
       "model_id": "9702ee39f3d246bdb7a1e31d6664f2c1",
       "version_major": 2,
       "version_minor": 0
      },
      "text/plain": [
       "Renderer(camera=PerspectiveCamera(aspect=1.5, position=(20.0, 0.0, 0.0), projectionMatrix=(1.4296712803397058,…"
      ]
     },
     "metadata": {},
     "output_type": "display_data"
    }
   ],
   "source": [
    "# display label and renderer\n",
    "display(coord_label)\n",
    "display(renderer)"
   ]
  },
  {
   "cell_type": "code",
   "execution_count": null,
   "metadata": {},
   "outputs": [],
   "source": []
  },
  {
   "cell_type": "code",
   "execution_count": null,
   "metadata": {},
   "outputs": [],
   "source": []
  },
  {
   "cell_type": "code",
   "execution_count": null,
   "metadata": {},
   "outputs": [],
   "source": []
  },
  {
   "cell_type": "code",
   "execution_count": null,
   "metadata": {},
   "outputs": [],
   "source": []
  },
  {
   "cell_type": "code",
   "execution_count": null,
   "metadata": {},
   "outputs": [],
   "source": [
    "import pythreejs as p3\n",
    "import numpy as np"
   ]
  },
  {
   "cell_type": "code",
   "execution_count": null,
   "metadata": {},
   "outputs": [],
   "source": [
    "a = 10.0*(np.random.random([100, 3]) - 0.5)\n",
    "geometry = p3.BufferGeometry(\n",
    "    attributes={\n",
    "        'position':\n",
    "        p3.BufferAttribute(array=a),\n",
    "        'color':\n",
    "        p3.BufferAttribute(array=np.random.random([100, 4]))\n",
    "    })\n",
    "material = p3.PointsMaterial(vertexColors='VertexColors',\n",
    "                                         transparent=True)\n",
    "points = p3.Points(geometry=geometry,\n",
    "                   material=material)"
   ]
  },
  {
   "cell_type": "code",
   "execution_count": null,
   "metadata": {},
   "outputs": [],
   "source": [
    "geometry2 = p3.BufferGeometry(\n",
    "    attributes={\n",
    "        'position':\n",
    "        p3.BufferAttribute(array=a),\n",
    "        'color':\n",
    "        p3.BufferAttribute(array=np.zeros([100, 4]))\n",
    "    })\n",
    "material2 = p3.PointsMaterial(vertexColors='VertexColors',\n",
    "                                         transparent=True, opacity=0)\n",
    "points2 = p3.Points(geometry=geometry2,\n",
    "                   material=material2)"
   ]
  },
  {
   "cell_type": "code",
   "execution_count": null,
   "metadata": {},
   "outputs": [],
   "source": [
    "view_width = 600\n",
    "view_height = 400\n",
    "camera = p3.PerspectiveCamera(position=[20, 0, 0], aspect=view_width/view_height)\n",
    "scene = p3.Scene(children=[points, points2, camera], background=\"#DDDDDD\")\n",
    "controller = p3.OrbitControls(controlling=camera)\n",
    "renderer = p3.Renderer(camera=camera, scene=scene, controls=[controller],\n",
    "                    width=view_width, height=view_height)\n",
    "renderer"
   ]
  },
  {
   "cell_type": "code",
   "execution_count": null,
   "metadata": {},
   "outputs": [],
   "source": [
    "import ipywidgets as widgets\n",
    "# Picker object\n",
    "hover_picker = p3.Picker(controlling=points, event='mousemove')\n",
    "renderer.controls = renderer.controls + [hover_picker]\n",
    "\n",
    "# A sphere for representing the current point on the surface\n",
    "hover_point = p3.Mesh(geometry=p3.SphereGeometry(radius=0.5),\n",
    "                   material=p3.MeshBasicMaterial(color='hotpink'))\n",
    "scene.add(hover_point)\n",
    "\n",
    "# Have sphere follow picker point:\n",
    "widgets.jslink((hover_point, 'position'), (hover_picker, 'point'))"
   ]
  },
  {
   "cell_type": "code",
   "execution_count": null,
   "metadata": {},
   "outputs": [],
   "source": [
    "coord_label = widgets.HTML()  # A label for showing hover picker coordinates\n",
    "\n",
    "def on_hover_change(change):\n",
    "#     coord_label.value = 'Pink point at (%.3f, %.3f, %.3f)' % tuple(change['new'])\n",
    "#     coord_label.value = str(change['new'])\n",
    "    coord_label.value = str(hover_picker.point)\n",
    "\n",
    "# on_hover_change({'new': hover_point.position})\n",
    "# hover_picker.observe(on_hover_change, names=['point'])\n",
    "on_hover_change({'new': hover_picker.point})\n",
    "hover_picker.observe(on_hover_change, names=['point'])\n",
    "coord_label"
   ]
  },
  {
   "cell_type": "code",
   "execution_count": null,
   "metadata": {},
   "outputs": [],
   "source": [
    "hover_picker.log"
   ]
  },
  {
   "cell_type": "code",
   "execution_count": 6,
   "metadata": {
    "scrolled": false
   },
   "outputs": [
    {
     "data": {
      "text/plain": [
       "['__class__',\n",
       " '__del__',\n",
       " '__delattr__',\n",
       " '__dict__',\n",
       " '__dir__',\n",
       " '__doc__',\n",
       " '__eq__',\n",
       " '__format__',\n",
       " '__ge__',\n",
       " '__getattribute__',\n",
       " '__getstate__',\n",
       " '__gt__',\n",
       " '__hash__',\n",
       " '__init__',\n",
       " '__init_subclass__',\n",
       " '__le__',\n",
       " '__lt__',\n",
       " '__module__',\n",
       " '__ne__',\n",
       " '__new__',\n",
       " '__reduce__',\n",
       " '__reduce_ex__',\n",
       " '__repr__',\n",
       " '__setattr__',\n",
       " '__setstate__',\n",
       " '__signature__',\n",
       " '__sizeof__',\n",
       " '__str__',\n",
       " '__subclasshook__',\n",
       " '__weakref__',\n",
       " '_add_notifiers',\n",
       " '_call_widget_constructed',\n",
       " '_comm_changed',\n",
       " '_compare',\n",
       " '_cross_validation_lock',\n",
       " '_default_keys',\n",
       " '_display_callbacks',\n",
       " '_gen_repr_from_keys',\n",
       " '_get_embed_state',\n",
       " '_get_trait_default_generator',\n",
       " '_handle_custom_msg',\n",
       " '_handle_displayed',\n",
       " '_handle_msg',\n",
       " '_holding_sync',\n",
       " '_ipython_display_',\n",
       " '_is_numpy',\n",
       " '_lock_property',\n",
       " '_log_default',\n",
       " '_model_id',\n",
       " '_model_module',\n",
       " '_model_module_version',\n",
       " '_model_name',\n",
       " '_msg_callbacks',\n",
       " '_notify_observers',\n",
       " '_notify_trait',\n",
       " '_on_potential_ret_val',\n",
       " '_on_ret_val',\n",
       " '_previewable',\n",
       " '_property_lock',\n",
       " '_register_validator',\n",
       " '_remove_notifiers',\n",
       " '_repr_keys',\n",
       " '_send',\n",
       " '_should_send_property',\n",
       " '_states_to_send',\n",
       " '_trait_default_generators',\n",
       " '_trait_from_json',\n",
       " '_trait_notifiers',\n",
       " '_trait_to_json',\n",
       " '_trait_validators',\n",
       " '_trait_values',\n",
       " '_view_count',\n",
       " '_view_module',\n",
       " '_view_module_version',\n",
       " '_view_name',\n",
       " '_widget_construction_callback',\n",
       " 'add_traits',\n",
       " 'all',\n",
       " 'class_own_trait_events',\n",
       " 'class_own_traits',\n",
       " 'class_trait_names',\n",
       " 'class_traits',\n",
       " 'close',\n",
       " 'close_all',\n",
       " 'comm',\n",
       " 'controlling',\n",
       " 'cross_validation_lock',\n",
       " 'distance',\n",
       " 'event',\n",
       " 'exec_three_obj_method',\n",
       " 'face',\n",
       " 'faceIndex',\n",
       " 'faceNormal',\n",
       " 'faceVertices',\n",
       " 'get_manager_state',\n",
       " 'get_state',\n",
       " 'get_view_spec',\n",
       " 'handle_comm_opened',\n",
       " 'has_trait',\n",
       " 'hold_sync',\n",
       " 'hold_trait_notifications',\n",
       " 'indices',\n",
       " 'keys',\n",
       " 'log',\n",
       " 'model_id',\n",
       " 'modifiers',\n",
       " 'notify_change',\n",
       " 'object',\n",
       " 'observe',\n",
       " 'on_displayed',\n",
       " 'on_msg',\n",
       " 'on_trait_change',\n",
       " 'on_widget_constructed',\n",
       " 'open',\n",
       " 'picked',\n",
       " 'point',\n",
       " 'send',\n",
       " 'send_state',\n",
       " 'set_state',\n",
       " 'set_trait',\n",
       " 'setup_instance',\n",
       " 'trait_defaults',\n",
       " 'trait_events',\n",
       " 'trait_has_value',\n",
       " 'trait_metadata',\n",
       " 'trait_names',\n",
       " 'trait_values',\n",
       " 'traits',\n",
       " 'unobserve',\n",
       " 'unobserve_all',\n",
       " 'uv',\n",
       " 'widget_types',\n",
       " 'widgets']"
      ]
     },
     "execution_count": 6,
     "metadata": {},
     "output_type": "execute_result"
    }
   ],
   "source": [
    "dir(hover_picker)"
   ]
  },
  {
   "cell_type": "code",
   "execution_count": null,
   "metadata": {},
   "outputs": [],
   "source": []
  }
 ],
 "metadata": {
  "kernelspec": {
   "display_name": "Python 3",
   "language": "python",
   "name": "python3"
  },
  "language_info": {
   "codemirror_mode": {
    "name": "ipython",
    "version": 3
   },
   "file_extension": ".py",
   "mimetype": "text/x-python",
   "name": "python",
   "nbconvert_exporter": "python",
   "pygments_lexer": "ipython3",
   "version": "3.7.10"
  }
 },
 "nbformat": 4,
 "nbformat_minor": 4
}
