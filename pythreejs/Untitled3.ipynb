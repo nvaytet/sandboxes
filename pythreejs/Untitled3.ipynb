{
 "cells": [
  {
   "cell_type": "code",
   "execution_count": null,
   "metadata": {},
   "outputs": [],
   "source": [
    "import pythreejs as p3\n",
    "import numpy as np\n",
    "from copy import copy"
   ]
  },
  {
   "cell_type": "code",
   "execution_count": null,
   "metadata": {},
   "outputs": [],
   "source": [
    "geometry = p3.BoxGeometry(\n",
    "    width=5,\n",
    "    height=10,\n",
    "    depth=15)\n",
    "\n",
    "morph = p3.BufferGeometry.from_geometry(geometry)"
   ]
  },
  {
   "cell_type": "code",
   "execution_count": null,
   "metadata": {
    "scrolled": false
   },
   "outputs": [],
   "source": [
    "morph.attributes"
   ]
  },
  {
   "cell_type": "code",
   "execution_count": null,
   "metadata": {},
   "outputs": [],
   "source": [
    "N = 6\n",
    "M = 12\n",
    "view_width = 800\n",
    "view_height = 500\n",
    "\n",
    "# colors = p3.InstancedBufferAttribute(array=np.random.random([N, 3]))\n",
    "# offsets = p3.InstancedBufferAttribute(array=(np.random.random([N, 3]) - 0.5) * 100.0)\n",
    "\n",
    "# # This shows many boxes, all along Z axis, all some shade of red\n",
    "# colors = p3.InstancedBufferAttribute(array=np.repeat(np.random.random([N, 3]), M, axis=0))\n",
    "# offsets = p3.InstancedBufferAttribute(array=np.repeat((np.random.random([N, 3])-0.5) * 100.0, M, axis=0))\n",
    "\n",
    "# This shows only one box, but with good color\n",
    "# colors = p3.BufferAttribute(array=np.repeat(np.random.random([N, 3]), 36, axis=0))\n",
    "# offsets = p3.BufferAttribute(array=np.repeat((np.random.random([N, 3])-0.5) * 100.0, 36, axis=0))\n",
    "\n",
    "\n",
    "# offsets = p3.InstancedBufferAttribute(array=(np.random.random([N*36, 3]) - 0.5) * 100.0)\n",
    "\n",
    "# This shows many boxes, all along Z axis, all some shade of red\n",
    "colors = p3.BufferAttribute(array=np.repeat(np.random.random([N, 3]), M, axis=0))\n",
    "offsets = p3.InstancedBufferAttribute(array=np.repeat((np.random.random([N, 3])-0.5) * 100.0, M, axis=0))"
   ]
  },
  {
   "cell_type": "code",
   "execution_count": null,
   "metadata": {
    "scrolled": false
   },
   "outputs": [],
   "source": [
    "instancedGeometry = p3.InstancedBufferGeometry(\n",
    "#     maxInstancedCount=N*36,\n",
    "    maxInstancedCount=N*M,\n",
    "    attributes={\n",
    "        \"position\": copy(morph.attributes[\"position\"]),\n",
    "        \"normal\": copy(morph.attributes[\"normal\"]),\n",
    "        \"uv\": copy(morph.attributes[\"uv\"]),\n",
    "        \"offset\": offsets,\n",
    "        \"color\": colors\n",
    "        \n",
    "    })\n",
    "# instancedGeometry.attributes"
   ]
  },
  {
   "cell_type": "code",
   "execution_count": 1,
   "metadata": {},
   "outputs": [
    {
     "ename": "NameError",
     "evalue": "name 'p3' is not defined",
     "output_type": "error",
     "traceback": [
      "\u001b[0;31m---------------------------------------------------------------------------\u001b[0m",
      "\u001b[0;31mNameError\u001b[0m                                 Traceback (most recent call last)",
      "\u001b[0;32m<ipython-input-1-62f800eef458>\u001b[0m in \u001b[0;36m<module>\u001b[0;34m\u001b[0m\n\u001b[0;32m----> 1\u001b[0;31m material = p3.ShaderMaterial(\n\u001b[0m\u001b[1;32m      2\u001b[0m     vertexShader='''\n\u001b[1;32m      3\u001b[0m \u001b[0mprecision\u001b[0m \u001b[0mhighp\u001b[0m \u001b[0mfloat\u001b[0m\u001b[0;34m;\u001b[0m\u001b[0;34m\u001b[0m\u001b[0;34m\u001b[0m\u001b[0m\n\u001b[1;32m      4\u001b[0m \u001b[0mattribute\u001b[0m \u001b[0mvec3\u001b[0m \u001b[0moffset\u001b[0m\u001b[0;34m;\u001b[0m\u001b[0;34m\u001b[0m\u001b[0;34m\u001b[0m\u001b[0m\n\u001b[1;32m      5\u001b[0m \u001b[0;34m//\u001b[0m\u001b[0mvec3\u001b[0m \u001b[0mvPosition\u001b[0m\u001b[0;34m;\u001b[0m\u001b[0;34m\u001b[0m\u001b[0;34m\u001b[0m\u001b[0m\n",
      "\u001b[0;31mNameError\u001b[0m: name 'p3' is not defined"
     ]
    }
   ],
   "source": [
    "material = p3.ShaderMaterial(\n",
    "    vertexShader='''\n",
    "precision highp float;\n",
    "attribute vec3 offset;\n",
    "//vec3 vPosition;\n",
    "vec3 mypos;\n",
    "varying vec4 vColor;\n",
    "void main(){\n",
    "//    vPosition = position;\n",
    "//    vPosition.x += offset.x;\n",
    "//    vPosition.y += offset.y;\n",
    "//    vPosition.z += offset.z;\n",
    "\n",
    "    mypos = position;\n",
    "    mypos.x += offset.x;\n",
    "    mypos.y += offset.y;\n",
    "    mypos.z += offset.z;\n",
    "\n",
    "//    vPosition = offset * max( abs( 0.0 * 2.0 + 1.0 ), 0.5 ) + position;\n",
    "//    vec4 orientation = normalize( mix( orientationStart, orientationEnd, sineTime ) );\n",
    "//    vec3 vcV = cross( orientation.xyz, vPosition );\n",
    "//    vPosition = vcV * ( 2.0 * orientation.w ) + ( cross( orientation.xyz, vcV ) * 2.0 + vPosition );\n",
    "    vColor = vec4( color, 1.0);\n",
    "    gl_Position = projectionMatrix * modelViewMatrix * vec4( mypos, 1.0 );\n",
    "//    gl_Position = vec4( vPosition, 1.0 );\n",
    "}\n",
    "''',\n",
    "    fragmentShader='''\n",
    "precision highp float;\n",
    "varying vec4 vColor;\n",
    "void main() {\n",
    "//    vec4 color = vec4( vColor );\n",
    "//  color.r += sin( vPosition.x * 10.0 + time ) * 0.5;\n",
    "//  vec4 color = vec4( 1, 0, 0, 1 );\n",
    "//    gl_FragColor = vec4( 0, 0, 1, 1 );\n",
    "    gl_FragColor = vec4( vColor );\n",
    "}\n",
    "''',\n",
    "    vertexColors='VertexColors'\n",
    "#     side='DoubleSide'\n",
    "#     uniforms=dict(\n",
    "#         linewidth={'value': 10.0},\n",
    "#         resolution={'value': (100., 100.)},\n",
    "#         **p3.UniformsLib['common']\n",
    "#     )\n",
    ")"
   ]
  },
  {
   "cell_type": "code",
   "execution_count": null,
   "metadata": {},
   "outputs": [],
   "source": [
    "# material = p3.MeshBasicMaterial(vertexColors='VertexColors', side='DoubleSide')\n",
    "mesh = p3.Mesh( instancedGeometry,  material)\n",
    "# mesh = p3.Mesh( instancedGeometry, p3.MeshBasicMaterial(color='red') )\n",
    "\n",
    "view_width = 600\n",
    "view_height = 400\n",
    "camera = p3.PerspectiveCamera(position=[20, 0, 0], aspect=view_width/view_height)\n",
    "key_light = p3.DirectionalLight(position=[0, 10, 10])\n",
    "ambient_light = p3.AmbientLight()\n",
    "scene = p3.Scene(children=[mesh, camera, key_light, ambient_light], background=\"#000000\")\n",
    "controller = p3.OrbitControls(controlling=camera)\n",
    "renderer = p3.Renderer(camera=camera, scene=scene, controls=[controller],\n",
    "                    width=view_width, height=view_height)\n",
    "renderer"
   ]
  },
  {
   "cell_type": "code",
   "execution_count": null,
   "metadata": {},
   "outputs": [],
   "source": [
    "instancedGeometry.attributes[\"color\"].array = np.repeat(np.random.random([N, 3]).astype(np.float32), M, axis=0)"
   ]
  },
  {
   "cell_type": "code",
   "execution_count": null,
   "metadata": {},
   "outputs": [],
   "source": [
    "instancedGeometry.attributes[\"position\"].array.shape"
   ]
  },
  {
   "cell_type": "code",
   "execution_count": null,
   "metadata": {},
   "outputs": [],
   "source": [
    "a = np.random.random([5, 3])\n",
    "print(a)\n",
    "np.repeat(a, 2, axis=0)"
   ]
  },
  {
   "cell_type": "code",
   "execution_count": null,
   "metadata": {},
   "outputs": [],
   "source": [
    "instancedGeometry.maxInstancedCount"
   ]
  },
  {
   "cell_type": "code",
   "execution_count": null,
   "metadata": {},
   "outputs": [],
   "source": [
    "instancedGeometry.attributes[\"offset\"].array[:50]"
   ]
  },
  {
   "cell_type": "code",
   "execution_count": null,
   "metadata": {},
   "outputs": [],
   "source": [
    "50*36"
   ]
  },
  {
   "cell_type": "code",
   "execution_count": null,
   "metadata": {},
   "outputs": [],
   "source": [
    "np.repeat(np.random.random([N, 3]) * 100.0, 36, axis=1)"
   ]
  },
  {
   "cell_type": "code",
   "execution_count": null,
   "metadata": {},
   "outputs": [],
   "source": []
  }
 ],
 "metadata": {
  "kernelspec": {
   "display_name": "Python 3",
   "language": "python",
   "name": "python3"
  },
  "language_info": {
   "codemirror_mode": {
    "name": "ipython",
    "version": 3
   },
   "file_extension": ".py",
   "mimetype": "text/x-python",
   "name": "python",
   "nbconvert_exporter": "python",
   "pygments_lexer": "ipython3",
   "version": "3.7.4"
  }
 },
 "nbformat": 4,
 "nbformat_minor": 4
}
