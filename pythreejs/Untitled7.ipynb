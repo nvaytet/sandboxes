{
 "cells": [
  {
   "cell_type": "code",
   "execution_count": 1,
   "metadata": {},
   "outputs": [],
   "source": [
    "import pythreejs as p3\n",
    "import numpy as np"
   ]
  },
  {
   "cell_type": "code",
   "execution_count": 2,
   "metadata": {},
   "outputs": [],
   "source": [
    "# vertices = np.array(\n",
    "#     [[-0.5, -0.5, -0.5], [0.5, -0.5, -0.5], [0.5, 0.5, -0.5],\n",
    "#      [-0.5, 0.5, -0.5], [-0.5, -0.5, 0.5], [0.5, -0.5, 0.5],\n",
    "#      [0.5, 0.5, 0.5], [-0.5, 0.5, 0.5]],\n",
    "#     dtype=np.float32)\n",
    "vertices = np.array(\n",
    "    [[-1.5, -0.5, -0.5], [1.5, -0.5, -0.5], [1.5, 0.5, -0.5],\n",
    "     [-1.5, 0.5, -0.5], [-1.5, -0.5, 0.5], [1.5, -0.5, 0.5],\n",
    "     [1.5, 0.5, 0.5], [-1.5, 0.5, 0.5]],\n",
    "    dtype=np.float32)\n",
    "\n",
    "faces = np.array([[0, 4, 3], [3, 4, 7], [1, 2, 6], [1, 6, 5],\n",
    "                  [0, 1, 5], [0, 5, 4], [2, 3, 7], [2, 7, 6],\n",
    "                  [0, 2, 1], [0, 3, 2], [4, 5, 7], [5, 6, 7]],\n",
    "                 dtype=np.uint32)"
   ]
  },
  {
   "cell_type": "code",
   "execution_count": 3,
   "metadata": {},
   "outputs": [],
   "source": [
    "# # N = 20\n",
    "# # colors = p3.InstancedBufferAttribute(array=np.random.random([N*3, 3]), meshPerAttribute=3)\n",
    "# # offsets = p3.InstancedBufferAttribute(array=(np.random.random([N*3, 3]) - 0.5) * 100.0, meshPerAttribute=3)\n",
    "# # rot = np.random.random([N*3, 4])\n",
    "# # rotations = p3.InstancedBufferAttribute(\n",
    "# #     array=rot/np.repeat(np.linalg.norm(rot, axis=1), 4).reshape([N*3, 4]), meshPerAttribute=4)\n",
    "\n",
    "# colors = p3.InstancedBufferAttribute(array=np.array([[1, 1, 1], [1, 1, 1], [1, 1, 1],\n",
    "#                                                      [1, 0, 0], [1, 0, 0], [1, 0, 0], \n",
    "#                                                      [0, 1, 0], [0, 1, 0], [0, 1, 0], \n",
    "#                                                      [0, 0, 1], [0, 0, 1], [0, 0, 1]], dtype=np.float32),\n",
    "#                                      meshPerAttribute=3)\n",
    "# offsets = p3.InstancedBufferAttribute(array=np.array([[0,0,0], [0,0,0], [0,0,0], \n",
    "#                                                       [5,0,0], [5,0,0], [5,0,0], \n",
    "#                                                       [0,5,0], [0,5,0], [0,5,0], \n",
    "#                                                       [0,0,5], [0,0,5], [0,0,5]], dtype=np.float32),\n",
    "#                                       meshPerAttribute=3)\n",
    "# # rot = np.random.random([N*3, 4])\n",
    "# rotations = p3.InstancedBufferAttribute(array=np.array([[0.5,0.5,0.5,0.5], [0.5,0.5,0.5,0.5], [0.5,0.5,0.5,0.5],\n",
    "#                                                         [1,0,0,0], [1,0,0,0], [1,0,0,0],\n",
    "#                                                         [0,1,0,0], [0,1,0,0], [0,1,0,0],\n",
    "#                                                         [0,0,0,1], [0,0,0,1], [0,0,0,1]], dtype=np.float32),\n",
    "#                                         meshPerAttribute=3)"
   ]
  },
  {
   "cell_type": "code",
   "execution_count": 15,
   "metadata": {},
   "outputs": [],
   "source": [
    "colors = p3.InstancedBufferAttribute(array=np.array([[1, 1, 1], [1, 0, 0], [0, 1, 0], [0, 0, 1]], dtype=np.float32),\n",
    "                                     meshPerAttribute=12)\n",
    "offsets = p3.InstancedBufferAttribute(array=np.array([[0,0,0], [5,0,0], [0,5,0], [0,0,5]], dtype=np.float32),\n",
    "                                      meshPerAttribute=12)\n",
    "rotations = p3.InstancedBufferAttribute(array=np.array([[0,0,0,0], [0,0.7071,0,0.7071],[0,0,0.7071,0.7071], [0.7071,0,0,0.7071]], dtype=np.float32),\n",
    "                                        meshPerAttribute=12)"
   ]
  },
  {
   "cell_type": "code",
   "execution_count": 16,
   "metadata": {},
   "outputs": [],
   "source": [
    "instancedGeometry = p3.InstancedBufferGeometry(\n",
    "    maxInstancedCount=4*12,\n",
    "    attributes={\n",
    "        \"position\": p3.BufferAttribute(array=vertices),\n",
    "        \"index\": p3.BufferAttribute(array=faces.ravel()),\n",
    "        \"offset\": offsets,\n",
    "        \"color\": colors,\n",
    "#         \"rotation\": rotations\n",
    "    })"
   ]
  },
  {
   "cell_type": "code",
   "execution_count": 17,
   "metadata": {},
   "outputs": [],
   "source": [
    "material = p3.ShaderMaterial(\n",
    "    vertexShader='''\n",
    "precision highp float;\n",
    "attribute vec3 offset;\n",
    "//attribute vec4 rotation;\n",
    "varying vec3 vPosition;\n",
    "varying vec4 vColor;\n",
    "void main(){\n",
    "\n",
    "    vPosition = position;\n",
    "//    vPosition = position + 2.0 * cross( rotation.xyz, cross( rotation.xyz, position ) + rotation.w * position );\n",
    "    vPosition += offset;\n",
    "\n",
    "    vColor = vec4( color, 1.0);\n",
    "    gl_Position = projectionMatrix * modelViewMatrix * vec4( vPosition, 1.0 );\n",
    "}\n",
    "''',\n",
    "    fragmentShader='''\n",
    "precision highp float;\n",
    "varying vec4 vColor;\n",
    "void main() {\n",
    "    gl_FragColor = vec4( vColor );\n",
    "}\n",
    "''',\n",
    "    vertexColors='VertexColors'\n",
    ")\n",
    "\n",
    "mesh = p3.Mesh( instancedGeometry,  material)"
   ]
  },
  {
   "cell_type": "code",
   "execution_count": 18,
   "metadata": {},
   "outputs": [
    {
     "data": {
      "application/vnd.jupyter.widget-view+json": {
       "model_id": "d0d6bf3930a54110ab4b618885f07ea1",
       "version_major": 2,
       "version_minor": 0
      },
      "text/plain": [
       "Renderer(camera=PerspectiveCamera(aspect=1.5, position=(20.0, 0.0, 0.0), quaternion=(0.0, 0.0, 0.0, 1.0), scal…"
      ]
     },
     "metadata": {},
     "output_type": "display_data"
    }
   ],
   "source": [
    "view_width = 600\n",
    "view_height = 400\n",
    "camera = p3.PerspectiveCamera(position=[20, 0, 0], aspect=view_width/view_height)\n",
    "key_light = p3.DirectionalLight(position=[0, 10, 10])\n",
    "ambient_light = p3.AmbientLight()\n",
    "scene = p3.Scene(children=[mesh, camera, key_light, ambient_light], background=\"#000000\")\n",
    "controller = p3.OrbitControls(controlling=camera)\n",
    "renderer = p3.Renderer(camera=camera, scene=scene, controls=[controller],\n",
    "                    width=view_width, height=view_height)\n",
    "renderer"
   ]
  },
  {
   "cell_type": "code",
   "execution_count": null,
   "metadata": {},
   "outputs": [],
   "source": [
    "arr = np.random.random([10, 4])\n",
    "arr"
   ]
  },
  {
   "cell_type": "code",
   "execution_count": null,
   "metadata": {},
   "outputs": [],
   "source": [
    "arr / np.repeat(np.linalg.norm(arr, axis=1), 4).reshape([10, 4])"
   ]
  },
  {
   "cell_type": "code",
   "execution_count": null,
   "metadata": {},
   "outputs": [],
   "source": []
  }
 ],
 "metadata": {
  "kernelspec": {
   "display_name": "Python 3",
   "language": "python",
   "name": "python3"
  },
  "language_info": {
   "codemirror_mode": {
    "name": "ipython",
    "version": 3
   },
   "file_extension": ".py",
   "mimetype": "text/x-python",
   "name": "python",
   "nbconvert_exporter": "python",
   "pygments_lexer": "ipython3",
   "version": "3.7.4"
  }
 },
 "nbformat": 4,
 "nbformat_minor": 2
}
