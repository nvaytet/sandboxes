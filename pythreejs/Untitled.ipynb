{
 "cells": [
  {
   "cell_type": "code",
   "execution_count": 1,
   "metadata": {},
   "outputs": [],
   "source": [
    "import pythreejs as p3\n",
    "import numpy as np"
   ]
  },
  {
   "cell_type": "code",
   "execution_count": 13,
   "metadata": {},
   "outputs": [
    {
     "data": {
      "text/plain": [
       "{}"
      ]
     },
     "execution_count": 13,
     "metadata": {},
     "output_type": "execute_result"
    }
   ],
   "source": [
    "N = 5\n",
    "\n",
    "colors = p3.InstancedBufferAttribute(array=np.random.random([N, 4]))\n",
    "offsets = p3.InstancedBufferAttribute(array=np.random.random([N, 3]))\n",
    "\n",
    "# geometry = p3.BoxBufferGeometry( 15, 5, 10 )\n",
    "\n",
    "geometry = p3.BoxBufferGeometry(\n",
    "    width=5,\n",
    "    height=10,\n",
    "    depth=15)\n",
    "\n",
    "morph = p3.BufferGeometry.from_geometry(geometry)\n",
    "\n",
    "\n",
    "morph.attributes\n",
    "\n",
    "instancedGeometry = p3.InstancedBufferGeometry()\n",
    "for key, attr in morph.attributes.items():\n",
    "    print(key, attr)\n",
    "    instancedGeometry.attributes[key] = attr\n",
    "instancedGeometry.attributes"
   ]
  },
  {
   "cell_type": "code",
   "execution_count": 55,
   "metadata": {},
   "outputs": [
    {
     "data": {
      "text/plain": [
       "{'offset': InstancedBufferAttribute(array=array([[0.0342738 , 0.80414206, 0.9484123 ],\n",
       "        [0.49048936, 0.2745184 , 0.35724178],\n",
       "        [0.60750866, 0.19421741, 0.53643197],\n",
       "        [0.26766905, 0.98399293, 0.19919544],\n",
       "        [0.9117077 , 0.174995  , 0.21086894]], dtype=float32), normalized=True, version=0),\n",
       " 'color': InstancedBufferAttribute(array=array([[0.5329974 , 0.9509581 , 0.9527832 , 0.7860126 ],\n",
       "        [0.6772686 , 0.9310883 , 0.97068316, 0.0259037 ],\n",
       "        [0.78603804, 0.25104222, 0.7564903 , 0.63342047],\n",
       "        [0.38952026, 0.6825483 , 0.60340816, 0.36686948],\n",
       "        [0.01731146, 0.66214126, 0.28314695, 0.41872373]], dtype=float32), normalized=True, version=0)}"
      ]
     },
     "execution_count": 55,
     "metadata": {},
     "output_type": "execute_result"
    }
   ],
   "source": [
    "instancedGeometry.maxInstancedCount = N\n",
    "\n",
    "instancedGeometry.attributes['offset'] = offsets\n",
    "instancedGeometry.attributes['color'] = colors\n",
    "\n",
    "instancedGeometry.attributes"
   ]
  },
  {
   "cell_type": "code",
   "execution_count": 4,
   "metadata": {
    "scrolled": false
   },
   "outputs": [],
   "source": [
    "mesh = p3.Mesh( instancedGeometry, p3.MeshBasicMaterial(color='red') )"
   ]
  },
  {
   "cell_type": "code",
   "execution_count": 5,
   "metadata": {},
   "outputs": [
    {
     "data": {
      "application/vnd.jupyter.widget-view+json": {
       "model_id": "47f98197e9ce4407817ceaf882360981",
       "version_major": 2,
       "version_minor": 0
      },
      "text/plain": [
       "Renderer(camera=PerspectiveCamera(aspect=1.5, position=(10.0, 0.0, 0.0), quaternion=(0.0, 0.0, 0.0, 1.0), scal…"
      ]
     },
     "metadata": {},
     "output_type": "display_data"
    }
   ],
   "source": [
    "view_width = 600\n",
    "view_height = 400\n",
    "camera = p3.PerspectiveCamera(position=[10, 0, 0], aspect=view_width/view_height)\n",
    "key_light = p3.DirectionalLight(position=[0, 10, 10])\n",
    "ambient_light = p3.AmbientLight()\n",
    "scene = p3.Scene(children=[mesh, camera, key_light, ambient_light])\n",
    "controller = p3.OrbitControls(controlling=camera, screenSpacePanning=False)\n",
    "renderer = p3.Renderer(camera=camera, scene=scene, controls=[controller],\n",
    "                    width=view_width, height=view_height)\n",
    "renderer"
   ]
  },
  {
   "cell_type": "code",
   "execution_count": 24,
   "metadata": {},
   "outputs": [
    {
     "data": {
      "text/plain": [
       "'InstancedBufferGeometry'"
      ]
     },
     "execution_count": 24,
     "metadata": {},
     "output_type": "execute_result"
    }
   ],
   "source": [
    "instancedGeometry = p3.InstancedBufferGeometry()\n",
    "instancedGeometry.type"
   ]
  },
  {
   "cell_type": "code",
   "execution_count": 12,
   "metadata": {},
   "outputs": [],
   "source": [
    "c = p3.CylinderGeometry(\n",
    "    radiusTop=5,\n",
    "    radiusBottom=10,\n",
    "    height=15,\n",
    "    radialSegments=6,\n",
    "    heightSegments=10,\n",
    "    openEnded=False,\n",
    "    thetaStart=0,\n",
    "    thetaLength=2.0*np.pi)"
   ]
  },
  {
   "cell_type": "code",
   "execution_count": 19,
   "metadata": {
    "scrolled": false
   },
   "outputs": [],
   "source": [
    "posInstBuffer = p3.InstancedInterleavedBuffer( np.array([\n",
    "    [0, 0, 0, 1, 1, 1],\n",
    "    [2, 2, 2, 4, 4, 4]\n",
    "], dtype=np.float32))\n",
    "colInstBuffer = p3.InstancedInterleavedBuffer( np.array([\n",
    "    [1, 0, 0, 1, 0, 0],\n",
    "    [0, 1, 0, 0, 0, 1]\n",
    "], dtype=np.float32))\n",
    "\n",
    "# This uses InstancedBufferGeometry, so that the geometry is reused for each line segment\n",
    "lineGeo = p3.InstancedBufferGeometry(attributes={\n",
    "    # Helper line geometry (2x4 grid), that is instanced\n",
    "    'position': p3.BufferAttribute(np.array([\n",
    "        [ 1,  2, 0], [1,  2, 0],\n",
    "        [-1,  1, 0], [1,  1, 0],\n",
    "        [-1,  0, 0], [1,  0, 0],\n",
    "        [-1, -1, 0], [1, -1, 0]\n",
    "    ], dtype=np.float32)),\n",
    "    'uv': p3.BufferAttribute(np.array([\n",
    "        [-1,  2], [1,  2],\n",
    "        [-1,  1], [1,  1],\n",
    "        [-1, -1], [1, -1],\n",
    "        [-1, -2], [1, -2]\n",
    "    ], dtype=np.float32)),\n",
    "    'index': p3.BufferAttribute(np.array([\n",
    "        0, 2, 1,\n",
    "        2, 3, 1,\n",
    "        2, 4, 3,\n",
    "        4, 5, 3,\n",
    "        4, 6, 5,\n",
    "        6, 7, 5\n",
    "    ], dtype=np.uint8)),\n",
    "    # The line segments are split into start/end for each instance:\n",
    "    'instanceStart': p3.InterleavedBufferAttribute(posInstBuffer, 3, 0),\n",
    "    'instanceEnd': p3.InterleavedBufferAttribute(posInstBuffer, 3, 3),\n",
    "    'instanceColorStart': p3.InterleavedBufferAttribute(colInstBuffer, 3, 0),\n",
    "    'instanceColorEnd': p3.InterleavedBufferAttribute(colInstBuffer, 3, 3),\n",
    "})"
   ]
  },
  {
   "cell_type": "code",
   "execution_count": 26,
   "metadata": {},
   "outputs": [
    {
     "data": {
      "text/plain": [
       "['MaxIndex',\n",
       " '_model_module',\n",
       " '_model_module_version',\n",
       " '_model_name',\n",
       " '_ref_geometry',\n",
       " '_store_ref',\n",
       " '_view_count',\n",
       " '_view_module',\n",
       " '_view_module_version',\n",
       " '_view_name',\n",
       " 'attributes',\n",
       " 'index',\n",
       " 'maxInstancedCount',\n",
       " 'morphAttributes',\n",
       " 'name',\n",
       " 'type',\n",
       " 'userData']"
      ]
     },
     "execution_count": 26,
     "metadata": {},
     "output_type": "execute_result"
    }
   ],
   "source": [
    "lineGeo.keys"
   ]
  },
  {
   "cell_type": "code",
   "execution_count": 28,
   "metadata": {
    "scrolled": false
   },
   "outputs": [
    {
     "data": {
      "text/plain": [
       "['__class__',\n",
       " '__del__',\n",
       " '__delattr__',\n",
       " '__dict__',\n",
       " '__dir__',\n",
       " '__doc__',\n",
       " '__eq__',\n",
       " '__format__',\n",
       " '__ge__',\n",
       " '__getattribute__',\n",
       " '__getstate__',\n",
       " '__gt__',\n",
       " '__hash__',\n",
       " '__init__',\n",
       " '__init_subclass__',\n",
       " '__le__',\n",
       " '__lt__',\n",
       " '__module__',\n",
       " '__ne__',\n",
       " '__new__',\n",
       " '__reduce__',\n",
       " '__reduce_ex__',\n",
       " '__repr__',\n",
       " '__setattr__',\n",
       " '__setstate__',\n",
       " '__signature__',\n",
       " '__sizeof__',\n",
       " '__str__',\n",
       " '__subclasshook__',\n",
       " '__weakref__',\n",
       " '_add_notifiers',\n",
       " '_call_widget_constructed',\n",
       " '_comm_changed',\n",
       " '_compare',\n",
       " '_cross_validation_lock',\n",
       " '_default_keys',\n",
       " '_display_callbacks',\n",
       " '_gen_repr_from_keys',\n",
       " '_get_embed_state',\n",
       " '_handle_custom_msg',\n",
       " '_handle_displayed',\n",
       " '_handle_msg',\n",
       " '_holding_sync',\n",
       " '_ipython_display_',\n",
       " '_is_numpy',\n",
       " '_lock_property',\n",
       " '_log_default',\n",
       " '_model_id',\n",
       " '_model_module',\n",
       " '_model_module_version',\n",
       " '_model_name',\n",
       " '_msg_callbacks',\n",
       " '_notify_trait',\n",
       " '_on_potential_ret_val',\n",
       " '_on_ret_val',\n",
       " '_previewable',\n",
       " '_property_lock',\n",
       " '_register_validator',\n",
       " '_remove_notifiers',\n",
       " '_repr_keys',\n",
       " '_send',\n",
       " '_should_send_property',\n",
       " '_states_to_send',\n",
       " '_trait_default_generators',\n",
       " '_trait_from_json',\n",
       " '_trait_notifiers',\n",
       " '_trait_to_json',\n",
       " '_trait_validators',\n",
       " '_trait_values',\n",
       " '_view_count',\n",
       " '_view_module',\n",
       " '_view_module_version',\n",
       " '_view_name',\n",
       " '_widget_construction_callback',\n",
       " 'add_traits',\n",
       " 'class_own_trait_events',\n",
       " 'class_own_traits',\n",
       " 'class_trait_names',\n",
       " 'class_traits',\n",
       " 'close',\n",
       " 'close_all',\n",
       " 'comm',\n",
       " 'cross_validation_lock',\n",
       " 'depth',\n",
       " 'depthSegments',\n",
       " 'exec_three_obj_method',\n",
       " 'get_manager_state',\n",
       " 'get_state',\n",
       " 'get_view_spec',\n",
       " 'handle_comm_opened',\n",
       " 'has_trait',\n",
       " 'height',\n",
       " 'heightSegments',\n",
       " 'hold_sync',\n",
       " 'hold_trait_notifications',\n",
       " 'keys',\n",
       " 'log',\n",
       " 'model_id',\n",
       " 'name',\n",
       " 'notify_change',\n",
       " 'observe',\n",
       " 'on_displayed',\n",
       " 'on_msg',\n",
       " 'on_trait_change',\n",
       " 'on_widget_constructed',\n",
       " 'open',\n",
       " 'send',\n",
       " 'send_state',\n",
       " 'set_state',\n",
       " 'set_trait',\n",
       " 'setup_instance',\n",
       " 'trait_events',\n",
       " 'trait_metadata',\n",
       " 'trait_names',\n",
       " 'traits',\n",
       " 'type',\n",
       " 'unobserve',\n",
       " 'unobserve_all',\n",
       " 'widget_types',\n",
       " 'widgets',\n",
       " 'width',\n",
       " 'widthSegments']"
      ]
     },
     "execution_count": 28,
     "metadata": {},
     "output_type": "execute_result"
    }
   ],
   "source": [
    "dir(geometry)"
   ]
  },
  {
   "cell_type": "code",
   "execution_count": 8,
   "metadata": {},
   "outputs": [],
   "source": [
    "geometry = p3.BoxBufferGeometry(\n",
    "    width=5,\n",
    "    height=10,\n",
    "    depth=15)\n",
    "# w = p3.WireframeGeometry(geometry)\n",
    "# w"
   ]
  },
  {
   "cell_type": "code",
   "execution_count": 9,
   "metadata": {
    "scrolled": false
   },
   "outputs": [],
   "source": [
    "dir(w);"
   ]
  },
  {
   "cell_type": "code",
   "execution_count": 14,
   "metadata": {},
   "outputs": [],
   "source": [
    "morph = p3.BufferGeometry.from_geometry(geometry)"
   ]
  },
  {
   "cell_type": "code",
   "execution_count": 16,
   "metadata": {},
   "outputs": [
    {
     "data": {
      "text/plain": [
       "{'position': BufferAttribute(array=array([[ 2.5,  5. ,  7.5],\n",
       "        [ 2.5,  5. , -7.5],\n",
       "        [ 2.5, -5. ,  7.5],\n",
       "        [ 2.5, -5. , -7.5],\n",
       "        [-2.5,  5. , -7.5],\n",
       "        [-2.5,  5. ,  7.5],\n",
       "        [-2.5, -5. , -7.5],\n",
       "        [-2.5, -5. ,  7.5],\n",
       "        [-2.5,  5. , -7.5],\n",
       "        [ 2.5,  5. , -7.5],\n",
       "        [-2.5,  5. ,  7.5],\n",
       "        [ 2.5,  5. ,  7.5],\n",
       "        [-2.5, -5. ,  7.5],\n",
       "        [ 2.5, -5. ,  7.5],\n",
       "        [-2.5, -5. , -7.5],\n",
       "        [ 2.5, -5. , -7.5],\n",
       "        [-2.5,  5. ,  7.5],\n",
       "        [ 2.5,  5. ,  7.5],\n",
       "        [-2.5, -5. ,  7.5],\n",
       "        [ 2.5, -5. ,  7.5],\n",
       "        [ 2.5,  5. , -7.5],\n",
       "        [-2.5,  5. , -7.5],\n",
       "        [ 2.5, -5. , -7.5],\n",
       "        [-2.5, -5. , -7.5]], dtype=float32), normalized=True, version=1),\n",
       " 'normal': BufferAttribute(array=array([[ 1.,  0.,  0.],\n",
       "        [ 1.,  0.,  0.],\n",
       "        [ 1.,  0.,  0.],\n",
       "        [ 1.,  0.,  0.],\n",
       "        [-1.,  0.,  0.],\n",
       "        [-1.,  0.,  0.],\n",
       "        [-1.,  0.,  0.],\n",
       "        [-1.,  0.,  0.],\n",
       "        [ 0.,  1.,  0.],\n",
       "        [ 0.,  1.,  0.],\n",
       "        [ 0.,  1.,  0.],\n",
       "        [ 0.,  1.,  0.],\n",
       "        [ 0., -1.,  0.],\n",
       "        [ 0., -1.,  0.],\n",
       "        [ 0., -1.,  0.],\n",
       "        [ 0., -1.,  0.],\n",
       "        [ 0.,  0.,  1.],\n",
       "        [ 0.,  0.,  1.],\n",
       "        [ 0.,  0.,  1.],\n",
       "        [ 0.,  0.,  1.],\n",
       "        [ 0.,  0., -1.],\n",
       "        [ 0.,  0., -1.],\n",
       "        [ 0.,  0., -1.],\n",
       "        [ 0.,  0., -1.]], dtype=float32), normalized=True, version=1),\n",
       " 'uv': BufferAttribute(array=array([[0., 1.],\n",
       "        [1., 1.],\n",
       "        [0., 0.],\n",
       "        [1., 0.],\n",
       "        [0., 1.],\n",
       "        [1., 1.],\n",
       "        [0., 0.],\n",
       "        [1., 0.],\n",
       "        [0., 1.],\n",
       "        [1., 1.],\n",
       "        [0., 0.],\n",
       "        [1., 0.],\n",
       "        [0., 1.],\n",
       "        [1., 1.],\n",
       "        [0., 0.],\n",
       "        [1., 0.],\n",
       "        [0., 1.],\n",
       "        [1., 1.],\n",
       "        [0., 0.],\n",
       "        [1., 0.],\n",
       "        [0., 1.],\n",
       "        [1., 1.],\n",
       "        [0., 0.],\n",
       "        [1., 0.]], dtype=float32), normalized=True, version=1)}"
      ]
     },
     "execution_count": 16,
     "metadata": {},
     "output_type": "execute_result"
    }
   ],
   "source": [
    "morph.attributes"
   ]
  },
  {
   "cell_type": "code",
   "execution_count": null,
   "metadata": {},
   "outputs": [],
   "source": []
  },
  {
   "cell_type": "code",
   "execution_count": null,
   "metadata": {},
   "outputs": [],
   "source": []
  },
  {
   "cell_type": "code",
   "execution_count": null,
   "metadata": {},
   "outputs": [],
   "source": []
  },
  {
   "cell_type": "code",
   "execution_count": 40,
   "metadata": {},
   "outputs": [
    {
     "data": {
      "application/vnd.jupyter.widget-view+json": {
       "model_id": "d5df62a0131c412395993985bcf8a132",
       "version_major": 2,
       "version_minor": 0
      },
      "text/plain": [
       "Preview(child=WireframeGeometry(geometry=SphereBufferGeometry(phiLength=4.71238898038469, radius=20.0, thetaLe…"
      ]
     },
     "metadata": {},
     "output_type": "display_data"
    }
   ],
   "source": [
    "sph = p3.SphereBufferGeometry(radius=20,\n",
    "    widthSegments=8,\n",
    "    heightSegments=6,\n",
    "    phiStart=0,\n",
    "    phiLength=1.5*np.pi,\n",
    "    thetaStart=0,\n",
    "    thetaLength=2.0*np.pi/3.0)\n",
    "\n",
    "wireframe = p3.WireframeGeometry(geometry=sph)\n",
    "\n",
    "wireframe"
   ]
  },
  {
   "cell_type": "code",
   "execution_count": 38,
   "metadata": {},
   "outputs": [
    {
     "data": {
      "application/vnd.jupyter.widget-view+json": {
       "model_id": "a782a6c2ebb64d6f91483d78fe67864f",
       "version_major": 2,
       "version_minor": 0
      },
      "text/plain": [
       "Preview(child=WireframeGeometry(geometry=TorusBufferGeometry(radialSegments=6, radius=20.0, tube=5.0, tubularS…"
      ]
     },
     "metadata": {},
     "output_type": "display_data"
    }
   ],
   "source": [
    "p3.WireframeGeometry(geometry=p3.TorusBufferGeometry(\n",
    "    radius=20,\n",
    "    tube=5,\n",
    "    radialSegments=6,\n",
    "    tubularSegments=20,\n",
    "    arc=2.0*np.pi\n",
    "))"
   ]
  },
  {
   "cell_type": "code",
   "execution_count": null,
   "metadata": {},
   "outputs": [],
   "source": []
  }
 ],
 "metadata": {
  "kernelspec": {
   "display_name": "Python 3",
   "language": "python",
   "name": "python3"
  },
  "language_info": {
   "codemirror_mode": {
    "name": "ipython",
    "version": 3
   },
   "file_extension": ".py",
   "mimetype": "text/x-python",
   "name": "python",
   "nbconvert_exporter": "python",
   "pygments_lexer": "ipython3",
   "version": "3.7.4"
  }
 },
 "nbformat": 4,
 "nbformat_minor": 2
}
