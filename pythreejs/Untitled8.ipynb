{
 "cells": [
  {
   "cell_type": "code",
   "execution_count": 2,
   "metadata": {},
   "outputs": [
    {
     "data": {
      "application/vnd.jupyter.widget-view+json": {
       "model_id": "ec929d3e68554699be8ff19839aa8ee0",
       "version_major": 2,
       "version_minor": 0
      },
      "text/plain": [
       "Renderer(camera=PerspectiveCamera(aspect=1.5, position=(20.0, 0.0, 0.0), quaternion=(0.0, 0.0, 0.0, 1.0), scal…"
      ]
     },
     "metadata": {},
     "output_type": "display_data"
    }
   ],
   "source": [
    "import pythreejs as p3\n",
    "import numpy as np\n",
    "\n",
    "vertices = np.array(\n",
    "    [[-0.5, -0.5, -0.5], [0.5, -0.5, -0.5], [0.5, 0.5, -0.5],\n",
    "     [-0.5, 0.5, -0.5], [-0.5, -0.5, 0.5], [0.5, -0.5, 0.5],\n",
    "     [0.5, 0.5, 0.5], [-0.5, 0.5, 0.5]],\n",
    "    dtype=np.float32)\n",
    "faces = np.array([[0, 4, 3], [3, 4, 7], [1, 2, 6], [1, 6, 5],\n",
    "                  [0, 1, 5], [0, 5, 4], [2, 3, 7], [2, 7, 6],\n",
    "                  [0, 2, 1], [0, 3, 2], [4, 5, 7], [5, 6, 7]],\n",
    "                 dtype=np.uint32)\n",
    "\n",
    "N = 50\n",
    "colors = p3.InstancedBufferAttribute(array=np.random.random([N, 3]), meshPerAttribute=3)\n",
    "offsets = p3.InstancedBufferAttribute(array=(np.random.random([N, 3]) - 0.5) * 100.0, meshPerAttribute=3)\n",
    "\n",
    "instancedGeometry = p3.InstancedBufferGeometry(\n",
    "    maxInstancedCount=N,\n",
    "    attributes={\n",
    "        \"position\": p3.BufferAttribute(array=vertices),\n",
    "        \"index\": p3.BufferAttribute(array=faces.ravel()),\n",
    "        \"offset\": offsets,\n",
    "        \"color\": colors        \n",
    "    })\n",
    "\n",
    "material = p3.ShaderMaterial(\n",
    "    vertexShader='''\n",
    "precision highp float;\n",
    "attribute vec3 offset;\n",
    "varying vec3 mypos;\n",
    "varying vec4 vColor;\n",
    "void main(){\n",
    "\n",
    "    mypos = position;\n",
    "    mypos.x += offset.x;\n",
    "    mypos.y += offset.y;\n",
    "    mypos.z += offset.z;\n",
    "\n",
    "    vColor = vec4( color, 1.0);\n",
    "    gl_Position = projectionMatrix * modelViewMatrix * vec4( mypos, 1.0 );\n",
    "}\n",
    "''',\n",
    "    fragmentShader='''\n",
    "precision highp float;\n",
    "varying vec4 vColor;\n",
    "void main() {\n",
    "    gl_FragColor = vec4( vColor );\n",
    "}\n",
    "''',\n",
    "    vertexColors='VertexColors'\n",
    ")\n",
    "\n",
    "mesh = p3.Mesh( instancedGeometry,  material)\n",
    "\n",
    "view_width = 600\n",
    "view_height = 400\n",
    "camera = p3.PerspectiveCamera(position=[20, 0, 0], aspect=view_width/view_height)\n",
    "key_light = p3.DirectionalLight(position=[0, 10, 10])\n",
    "ambient_light = p3.AmbientLight()\n",
    "scene = p3.Scene(children=[mesh, camera, key_light, ambient_light], background=\"#000000\")\n",
    "controller = p3.OrbitControls(controlling=camera)\n",
    "renderer = p3.Renderer(camera=camera, scene=scene, controls=[controller],\n",
    "                    width=view_width, height=view_height)\n",
    "renderer"
   ]
  },
  {
   "cell_type": "code",
   "execution_count": null,
   "metadata": {},
   "outputs": [],
   "source": []
  }
 ],
 "metadata": {
  "kernelspec": {
   "display_name": "Python 3",
   "language": "python",
   "name": "python3"
  },
  "language_info": {
   "codemirror_mode": {
    "name": "ipython",
    "version": 3
   },
   "file_extension": ".py",
   "mimetype": "text/x-python",
   "name": "python",
   "nbconvert_exporter": "python",
   "pygments_lexer": "ipython3",
   "version": "3.7.4"
  }
 },
 "nbformat": 4,
 "nbformat_minor": 2
}
