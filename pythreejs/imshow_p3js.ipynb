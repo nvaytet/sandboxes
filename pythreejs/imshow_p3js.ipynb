{
 "cells": [
  {
   "cell_type": "code",
   "execution_count": 1,
   "metadata": {},
   "outputs": [],
   "source": [
    "import numpy as np\n",
    "import pythreejs as p3\n",
    "from matplotlib import cm"
   ]
  },
  {
   "cell_type": "code",
   "execution_count": 2,
   "metadata": {},
   "outputs": [
    {
     "data": {
      "text/plain": [
       "(100, 50)"
      ]
     },
     "execution_count": 2,
     "metadata": {},
     "output_type": "execute_result"
    }
   ],
   "source": [
    "N = 100\n",
    "M = 50\n",
    "xx = np.arange(N, dtype=np.float32)\n",
    "yy = np.arange(M, dtype=np.float32)\n",
    "x, y = np.meshgrid(xx, yy,indexing=\"ij\")\n",
    "# y, x = np.meshgrid(yy, xx)\n",
    "b = N/20.0\n",
    "c = M/2.0\n",
    "r = np.sqrt(((x-c)/b)**2 + (y/b)**2)\n",
    "a = np.sin(r)\n",
    "a.shape"
   ]
  },
  {
   "cell_type": "code",
   "execution_count": 3,
   "metadata": {},
   "outputs": [],
   "source": [
    "scalar_map = cm.ScalarMappable(cmap='viridis')\n",
    "colors = scalar_map.to_rgba(a.flat).astype(np.float32)"
   ]
  },
  {
   "cell_type": "code",
   "execution_count": 4,
   "metadata": {},
   "outputs": [
    {
     "data": {
      "text/plain": [
       "(5000, 3)"
      ]
     },
     "execution_count": 4,
     "metadata": {},
     "output_type": "execute_result"
    }
   ],
   "source": [
    "vertices = np.array([x.flatten(), y.flatten(), np.zeros_like(x.flatten())], dtype='float32').T\n",
    "vertices.shape"
   ]
  },
  {
   "cell_type": "code",
   "execution_count": null,
   "metadata": {},
   "outputs": [],
   "source": []
  },
  {
   "cell_type": "code",
   "execution_count": 5,
   "metadata": {},
   "outputs": [],
   "source": [
    "geom = p3.CylinderGeometry(\n",
    "    radiusTop=1,\n",
    "    radiusBottom=1,\n",
    "    height=1,\n",
    "    radialSegments=10,\n",
    "    heightSegments=1,\n",
    "    openEnded=False,\n",
    "    thetaStart=0,\n",
    "    thetaLength=2.0*np.pi)\n",
    "morph = p3.BufferGeometry.from_geometry(geom)"
   ]
  },
  {
   "cell_type": "code",
   "execution_count": 6,
   "metadata": {
    "scrolled": false
   },
   "outputs": [
    {
     "data": {
      "text/plain": [
       "array([[ 0.0000000e+00,  5.0000000e-01,  1.0000000e+00],\n",
       "       [ 0.0000000e+00, -5.0000000e-01,  1.0000000e+00],\n",
       "       [ 5.8778524e-01,  5.0000000e-01,  8.0901700e-01],\n",
       "       [ 0.0000000e+00, -5.0000000e-01,  1.0000000e+00],\n",
       "       [ 5.8778524e-01, -5.0000000e-01,  8.0901700e-01],\n",
       "       [ 5.8778524e-01,  5.0000000e-01,  8.0901700e-01],\n",
       "       [ 5.8778524e-01,  5.0000000e-01,  8.0901700e-01],\n",
       "       [ 5.8778524e-01, -5.0000000e-01,  8.0901700e-01],\n",
       "       [ 9.5105654e-01,  5.0000000e-01,  3.0901700e-01],\n",
       "       [ 5.8778524e-01, -5.0000000e-01,  8.0901700e-01],\n",
       "       [ 9.5105654e-01, -5.0000000e-01,  3.0901700e-01],\n",
       "       [ 9.5105654e-01,  5.0000000e-01,  3.0901700e-01],\n",
       "       [ 9.5105654e-01,  5.0000000e-01,  3.0901700e-01],\n",
       "       [ 9.5105654e-01, -5.0000000e-01,  3.0901700e-01],\n",
       "       [ 9.5105654e-01,  5.0000000e-01, -3.0901700e-01],\n",
       "       [ 9.5105654e-01, -5.0000000e-01,  3.0901700e-01],\n",
       "       [ 9.5105654e-01, -5.0000000e-01, -3.0901700e-01],\n",
       "       [ 9.5105654e-01,  5.0000000e-01, -3.0901700e-01],\n",
       "       [ 9.5105654e-01,  5.0000000e-01, -3.0901700e-01],\n",
       "       [ 9.5105654e-01, -5.0000000e-01, -3.0901700e-01],\n",
       "       [ 5.8778524e-01,  5.0000000e-01, -8.0901700e-01],\n",
       "       [ 9.5105654e-01, -5.0000000e-01, -3.0901700e-01],\n",
       "       [ 5.8778524e-01, -5.0000000e-01, -8.0901700e-01],\n",
       "       [ 5.8778524e-01,  5.0000000e-01, -8.0901700e-01],\n",
       "       [ 5.8778524e-01,  5.0000000e-01, -8.0901700e-01],\n",
       "       [ 5.8778524e-01, -5.0000000e-01, -8.0901700e-01],\n",
       "       [ 1.2246469e-16,  5.0000000e-01, -1.0000000e+00],\n",
       "       [ 5.8778524e-01, -5.0000000e-01, -8.0901700e-01],\n",
       "       [ 1.2246469e-16, -5.0000000e-01, -1.0000000e+00],\n",
       "       [ 1.2246469e-16,  5.0000000e-01, -1.0000000e+00],\n",
       "       [ 1.2246469e-16,  5.0000000e-01, -1.0000000e+00],\n",
       "       [ 1.2246469e-16, -5.0000000e-01, -1.0000000e+00],\n",
       "       [-5.8778524e-01,  5.0000000e-01, -8.0901700e-01],\n",
       "       [ 1.2246469e-16, -5.0000000e-01, -1.0000000e+00],\n",
       "       [-5.8778524e-01, -5.0000000e-01, -8.0901700e-01],\n",
       "       [-5.8778524e-01,  5.0000000e-01, -8.0901700e-01],\n",
       "       [-5.8778524e-01,  5.0000000e-01, -8.0901700e-01],\n",
       "       [-5.8778524e-01, -5.0000000e-01, -8.0901700e-01],\n",
       "       [-9.5105654e-01,  5.0000000e-01, -3.0901700e-01],\n",
       "       [-5.8778524e-01, -5.0000000e-01, -8.0901700e-01],\n",
       "       [-9.5105654e-01, -5.0000000e-01, -3.0901700e-01],\n",
       "       [-9.5105654e-01,  5.0000000e-01, -3.0901700e-01],\n",
       "       [-9.5105654e-01,  5.0000000e-01, -3.0901700e-01],\n",
       "       [-9.5105654e-01, -5.0000000e-01, -3.0901700e-01],\n",
       "       [-9.5105654e-01,  5.0000000e-01,  3.0901700e-01],\n",
       "       [-9.5105654e-01, -5.0000000e-01, -3.0901700e-01],\n",
       "       [-9.5105654e-01, -5.0000000e-01,  3.0901700e-01],\n",
       "       [-9.5105654e-01,  5.0000000e-01,  3.0901700e-01],\n",
       "       [-9.5105654e-01,  5.0000000e-01,  3.0901700e-01],\n",
       "       [-9.5105654e-01, -5.0000000e-01,  3.0901700e-01],\n",
       "       [-5.8778524e-01,  5.0000000e-01,  8.0901700e-01],\n",
       "       [-9.5105654e-01, -5.0000000e-01,  3.0901700e-01],\n",
       "       [-5.8778524e-01, -5.0000000e-01,  8.0901700e-01],\n",
       "       [-5.8778524e-01,  5.0000000e-01,  8.0901700e-01],\n",
       "       [-5.8778524e-01,  5.0000000e-01,  8.0901700e-01],\n",
       "       [-5.8778524e-01, -5.0000000e-01,  8.0901700e-01],\n",
       "       [ 0.0000000e+00,  5.0000000e-01,  1.0000000e+00],\n",
       "       [-5.8778524e-01, -5.0000000e-01,  8.0901700e-01],\n",
       "       [ 0.0000000e+00, -5.0000000e-01,  1.0000000e+00],\n",
       "       [ 0.0000000e+00,  5.0000000e-01,  1.0000000e+00],\n",
       "       [ 0.0000000e+00,  5.0000000e-01,  1.0000000e+00],\n",
       "       [ 5.8778524e-01,  5.0000000e-01,  8.0901700e-01],\n",
       "       [ 0.0000000e+00,  5.0000000e-01,  0.0000000e+00],\n",
       "       [ 5.8778524e-01,  5.0000000e-01,  8.0901700e-01],\n",
       "       [ 9.5105654e-01,  5.0000000e-01,  3.0901700e-01],\n",
       "       [ 0.0000000e+00,  5.0000000e-01,  0.0000000e+00],\n",
       "       [ 9.5105654e-01,  5.0000000e-01,  3.0901700e-01],\n",
       "       [ 9.5105654e-01,  5.0000000e-01, -3.0901700e-01],\n",
       "       [ 0.0000000e+00,  5.0000000e-01,  0.0000000e+00],\n",
       "       [ 9.5105654e-01,  5.0000000e-01, -3.0901700e-01],\n",
       "       [ 5.8778524e-01,  5.0000000e-01, -8.0901700e-01],\n",
       "       [ 0.0000000e+00,  5.0000000e-01,  0.0000000e+00],\n",
       "       [ 5.8778524e-01,  5.0000000e-01, -8.0901700e-01],\n",
       "       [ 1.2246469e-16,  5.0000000e-01, -1.0000000e+00],\n",
       "       [ 0.0000000e+00,  5.0000000e-01,  0.0000000e+00],\n",
       "       [ 1.2246469e-16,  5.0000000e-01, -1.0000000e+00],\n",
       "       [-5.8778524e-01,  5.0000000e-01, -8.0901700e-01],\n",
       "       [ 0.0000000e+00,  5.0000000e-01,  0.0000000e+00],\n",
       "       [-5.8778524e-01,  5.0000000e-01, -8.0901700e-01],\n",
       "       [-9.5105654e-01,  5.0000000e-01, -3.0901700e-01],\n",
       "       [ 0.0000000e+00,  5.0000000e-01,  0.0000000e+00],\n",
       "       [-9.5105654e-01,  5.0000000e-01, -3.0901700e-01],\n",
       "       [-9.5105654e-01,  5.0000000e-01,  3.0901700e-01],\n",
       "       [ 0.0000000e+00,  5.0000000e-01,  0.0000000e+00],\n",
       "       [-9.5105654e-01,  5.0000000e-01,  3.0901700e-01],\n",
       "       [-5.8778524e-01,  5.0000000e-01,  8.0901700e-01],\n",
       "       [ 0.0000000e+00,  5.0000000e-01,  0.0000000e+00],\n",
       "       [-5.8778524e-01,  5.0000000e-01,  8.0901700e-01],\n",
       "       [ 0.0000000e+00,  5.0000000e-01,  1.0000000e+00],\n",
       "       [ 0.0000000e+00,  5.0000000e-01,  0.0000000e+00],\n",
       "       [ 5.8778524e-01, -5.0000000e-01,  8.0901700e-01],\n",
       "       [ 0.0000000e+00, -5.0000000e-01,  1.0000000e+00],\n",
       "       [ 0.0000000e+00, -5.0000000e-01,  0.0000000e+00],\n",
       "       [ 9.5105654e-01, -5.0000000e-01,  3.0901700e-01],\n",
       "       [ 5.8778524e-01, -5.0000000e-01,  8.0901700e-01],\n",
       "       [ 0.0000000e+00, -5.0000000e-01,  0.0000000e+00],\n",
       "       [ 9.5105654e-01, -5.0000000e-01, -3.0901700e-01],\n",
       "       [ 9.5105654e-01, -5.0000000e-01,  3.0901700e-01],\n",
       "       [ 0.0000000e+00, -5.0000000e-01,  0.0000000e+00],\n",
       "       [ 5.8778524e-01, -5.0000000e-01, -8.0901700e-01],\n",
       "       [ 9.5105654e-01, -5.0000000e-01, -3.0901700e-01],\n",
       "       [ 0.0000000e+00, -5.0000000e-01,  0.0000000e+00],\n",
       "       [ 1.2246469e-16, -5.0000000e-01, -1.0000000e+00],\n",
       "       [ 5.8778524e-01, -5.0000000e-01, -8.0901700e-01],\n",
       "       [ 0.0000000e+00, -5.0000000e-01,  0.0000000e+00],\n",
       "       [-5.8778524e-01, -5.0000000e-01, -8.0901700e-01],\n",
       "       [ 1.2246469e-16, -5.0000000e-01, -1.0000000e+00],\n",
       "       [ 0.0000000e+00, -5.0000000e-01,  0.0000000e+00],\n",
       "       [-9.5105654e-01, -5.0000000e-01, -3.0901700e-01],\n",
       "       [-5.8778524e-01, -5.0000000e-01, -8.0901700e-01],\n",
       "       [ 0.0000000e+00, -5.0000000e-01,  0.0000000e+00],\n",
       "       [-9.5105654e-01, -5.0000000e-01,  3.0901700e-01],\n",
       "       [-9.5105654e-01, -5.0000000e-01, -3.0901700e-01],\n",
       "       [ 0.0000000e+00, -5.0000000e-01,  0.0000000e+00],\n",
       "       [-5.8778524e-01, -5.0000000e-01,  8.0901700e-01],\n",
       "       [-9.5105654e-01, -5.0000000e-01,  3.0901700e-01],\n",
       "       [ 0.0000000e+00, -5.0000000e-01,  0.0000000e+00],\n",
       "       [ 0.0000000e+00, -5.0000000e-01,  1.0000000e+00],\n",
       "       [-5.8778524e-01, -5.0000000e-01,  8.0901700e-01],\n",
       "       [ 0.0000000e+00, -5.0000000e-01,  0.0000000e+00]], dtype=float32)"
      ]
     },
     "execution_count": 6,
     "metadata": {},
     "output_type": "execute_result"
    }
   ],
   "source": [
    "morph.attributes[\"position\"].array"
   ]
  },
  {
   "cell_type": "code",
   "execution_count": 7,
   "metadata": {},
   "outputs": [
    {
     "data": {
      "application/vnd.jupyter.widget-view+json": {
       "model_id": "e69a51f105e447ce9ec97bdf8fa5a035",
       "version_major": 2,
       "version_minor": 0
      },
      "text/plain": [
       "Preview(child=WireframeGeometry(geometry=CylinderGeometry(radialSegments=10)), shadowMap=WebGLShadowMap())"
      ]
     },
     "metadata": {},
     "output_type": "display_data"
    }
   ],
   "source": [
    "p3.WireframeGeometry(geom)"
   ]
  },
  {
   "cell_type": "code",
   "execution_count": null,
   "metadata": {},
   "outputs": [],
   "source": []
  },
  {
   "cell_type": "code",
   "execution_count": null,
   "metadata": {},
   "outputs": [],
   "source": []
  },
  {
   "cell_type": "code",
   "execution_count": null,
   "metadata": {},
   "outputs": [],
   "source": []
  },
  {
   "cell_type": "code",
   "execution_count": null,
   "metadata": {},
   "outputs": [],
   "source": []
  },
  {
   "cell_type": "code",
   "execution_count": 8,
   "metadata": {},
   "outputs": [],
   "source": [
    "grid = p3.PlaneGeometry(\n",
    "    width=N,\n",
    "    height=M,\n",
    "    widthSegments=N,\n",
    "    heightSegments=M)"
   ]
  },
  {
   "cell_type": "code",
   "execution_count": 9,
   "metadata": {},
   "outputs": [
    {
     "ename": "AttributeError",
     "evalue": "'PlaneGeometry' object has no attribute 'vertices'",
     "output_type": "error",
     "traceback": [
      "\u001b[0;31m---------------------------------------------------------------------------\u001b[0m",
      "\u001b[0;31mAttributeError\u001b[0m                            Traceback (most recent call last)",
      "\u001b[0;32m<ipython-input-9-98b10b356f8f>\u001b[0m in \u001b[0;36m<module>\u001b[0;34m\u001b[0m\n\u001b[0;32m----> 1\u001b[0;31m \u001b[0mgrid\u001b[0m\u001b[0;34m.\u001b[0m\u001b[0mvertices\u001b[0m\u001b[0;34m\u001b[0m\u001b[0;34m\u001b[0m\u001b[0m\n\u001b[0m",
      "\u001b[0;31mAttributeError\u001b[0m: 'PlaneGeometry' object has no attribute 'vertices'"
     ]
    }
   ],
   "source": [
    "grid.vertices"
   ]
  },
  {
   "cell_type": "code",
   "execution_count": null,
   "metadata": {},
   "outputs": [],
   "source": []
  },
  {
   "cell_type": "code",
   "execution_count": null,
   "metadata": {},
   "outputs": [],
   "source": []
  },
  {
   "cell_type": "code",
   "execution_count": 10,
   "metadata": {},
   "outputs": [
    {
     "name": "stderr",
     "output_type": "stream",
     "text": [
      "/home/nvaytet/software/miniconda3/lib/python3.7/site-packages/pythreejs/traits.py:191: UserWarning: 64-bit data types not supported for WebGL data, casting to 32-bit.\n",
      "  warnings.warn('64-bit data types not supported for WebGL '\n"
     ]
    },
    {
     "ename": "AttributeError",
     "evalue": "'CylinderGeometry' object has no attribute 'attributes'",
     "output_type": "error",
     "traceback": [
      "\u001b[0;31m---------------------------------------------------------------------------\u001b[0m",
      "\u001b[0;31mAttributeError\u001b[0m                            Traceback (most recent call last)",
      "\u001b[0;32m<ipython-input-10-252ac7bec281>\u001b[0m in \u001b[0;36m<module>\u001b[0;34m\u001b[0m\n\u001b[1;32m      1\u001b[0m \u001b[0;31m# geom.attributes[\"color\"] = p3.BufferAttribute(array=np.repeat(colors[:, :3], 6, axis=0))\u001b[0m\u001b[0;34m\u001b[0m\u001b[0;34m\u001b[0m\u001b[0;34m\u001b[0m\u001b[0m\n\u001b[0;32m----> 2\u001b[0;31m \u001b[0mgeom\u001b[0m\u001b[0;34m.\u001b[0m\u001b[0mattributes\u001b[0m\u001b[0;34m[\u001b[0m\u001b[0;34m\"color\"\u001b[0m\u001b[0;34m]\u001b[0m \u001b[0;34m=\u001b[0m \u001b[0mp3\u001b[0m\u001b[0;34m.\u001b[0m\u001b[0mBufferAttribute\u001b[0m\u001b[0;34m(\u001b[0m\u001b[0marray\u001b[0m\u001b[0;34m=\u001b[0m\u001b[0mnp\u001b[0m\u001b[0;34m.\u001b[0m\u001b[0mrandom\u001b[0m\u001b[0;34m.\u001b[0m\u001b[0mrandom\u001b[0m\u001b[0;34m(\u001b[0m\u001b[0;34m[\u001b[0m\u001b[0;36m30000\u001b[0m\u001b[0;34m,\u001b[0m \u001b[0;36m3\u001b[0m\u001b[0;34m]\u001b[0m\u001b[0;34m)\u001b[0m\u001b[0;34m)\u001b[0m\u001b[0;34m\u001b[0m\u001b[0;34m\u001b[0m\u001b[0m\n\u001b[0m",
      "\u001b[0;31mAttributeError\u001b[0m: 'CylinderGeometry' object has no attribute 'attributes'"
     ]
    }
   ],
   "source": [
    "# geom.attributes[\"color\"] = p3.BufferAttribute(array=np.repeat(colors[:, :3], 6, axis=0))\n",
    "geom.attributes[\"color\"] = p3.BufferAttribute(array=np.random.random([30000, 3]))"
   ]
  },
  {
   "cell_type": "code",
   "execution_count": 11,
   "metadata": {},
   "outputs": [],
   "source": [
    "material = p3.ShaderMaterial(\n",
    "    vertexShader='''\n",
    "precision highp float;\n",
    "varying vec3 vColor;\n",
    "varying vec3 vPosition;\n",
    "void main() {\n",
    "    vPosition = position;\n",
    "    vColor = color;\n",
    "    gl_Position = projectionMatrix * modelViewMatrix * vec4( vPosition, 1.0 );\n",
    "}\n",
    "''',\n",
    "    fragmentShader='''\n",
    "precision highp float;\n",
    "varying vec3 vColor;\n",
    "void main() {\n",
    "    gl_FragColor = vec4( vColor.rgb, 1.0 );\n",
    "}\n",
    "''',\n",
    "    vertexColors='VertexColors'\n",
    ")"
   ]
  },
  {
   "cell_type": "code",
   "execution_count": 12,
   "metadata": {},
   "outputs": [],
   "source": [
    "# material=p3.MeshBasicMaterial(vertexColors='FaceColors')"
   ]
  },
  {
   "cell_type": "code",
   "execution_count": 13,
   "metadata": {},
   "outputs": [],
   "source": [
    "surf = p3.Mesh(geometry=geom, material=material)"
   ]
  },
  {
   "cell_type": "code",
   "execution_count": 14,
   "metadata": {},
   "outputs": [
    {
     "data": {
      "application/vnd.jupyter.widget-view+json": {
       "model_id": "620109e31626495f91dddc73633163a1",
       "version_major": 2,
       "version_minor": 0
      },
      "text/plain": [
       "Renderer(camera=PerspectiveCamera(aspect=1.5, position=(0.0, 0.0, 100.0), quaternion=(0.0, 0.0, 0.0, 1.0), sca…"
      ]
     },
     "metadata": {},
     "output_type": "display_data"
    }
   ],
   "source": [
    "width=600\n",
    "height=400\n",
    "camera = p3.PerspectiveCamera(position=[0, 0, 100],\n",
    "                              aspect=width / height)\n",
    "key_light = p3.DirectionalLight(position=[0, 10, 10])\n",
    "ambient_light = p3.AmbientLight()\n",
    "scene = p3.Scene(children=[surf, camera, key_light, ambient_light], background=\"red\")\n",
    "controller = p3.OrbitControls(controlling=camera)\n",
    "renderer = p3.Renderer(camera=camera, scene=scene,\n",
    "                                 controls=[controller],\n",
    "                                 width=width,\n",
    "                                 height=height)\n",
    "renderer"
   ]
  },
  {
   "cell_type": "code",
   "execution_count": 32,
   "metadata": {
    "scrolled": false
   },
   "outputs": [
    {
     "data": {
      "text/plain": [
       "array([0., 1., 2., 3., 4.])"
      ]
     },
     "execution_count": 32,
     "metadata": {},
     "output_type": "execute_result"
    }
   ],
   "source": [
    "import numpy as np\n",
    "x = np.arange(5.)\n",
    "y = np.arange(5., 9.)\n",
    "x"
   ]
  },
  {
   "cell_type": "code",
   "execution_count": 33,
   "metadata": {},
   "outputs": [
    {
     "name": "stdout",
     "output_type": "stream",
     "text": [
      "[0. 1. 1. 2. 2. 3. 3. 4.]\n",
      "[5. 6. 6. 7. 7. 8.]\n"
     ]
    }
   ],
   "source": [
    "arr_x = np.zeros(2 * (x.shape[0] - 1), dtype=x.dtype)\n",
    "arr_x[::2] = x[:-1]\n",
    "arr_x[1::2] = x[1:]\n",
    "print(arr_x)\n",
    "arr_y = np.zeros(2 * (y.shape[0] - 1), dtype=x.dtype)\n",
    "arr_y[::2] = y[:-1]\n",
    "arr_y[1::2] = y[1:]\n",
    "print(arr_y)"
   ]
  },
  {
   "cell_type": "code",
   "execution_count": 34,
   "metadata": {},
   "outputs": [
    {
     "data": {
      "text/plain": [
       "(6, 8)"
      ]
     },
     "execution_count": 34,
     "metadata": {},
     "output_type": "execute_result"
    }
   ],
   "source": [
    "xx, yy = np.meshgrid(arr_x, arr_y)\n",
    "xx.shape"
   ]
  },
  {
   "cell_type": "code",
   "execution_count": 35,
   "metadata": {},
   "outputs": [
    {
     "data": {
      "text/plain": [
       "array([[5., 5., 5., 5., 5., 5., 5., 5.],\n",
       "       [6., 6., 6., 6., 6., 6., 6., 6.],\n",
       "       [6., 6., 6., 6., 6., 6., 6., 6.],\n",
       "       [7., 7., 7., 7., 7., 7., 7., 7.],\n",
       "       [7., 7., 7., 7., 7., 7., 7., 7.],\n",
       "       [8., 8., 8., 8., 8., 8., 8., 8.]])"
      ]
     },
     "execution_count": 35,
     "metadata": {},
     "output_type": "execute_result"
    }
   ],
   "source": [
    "yy"
   ]
  },
  {
   "cell_type": "code",
   "execution_count": 36,
   "metadata": {},
   "outputs": [
    {
     "data": {
      "text/plain": [
       "64"
      ]
     },
     "execution_count": 36,
     "metadata": {},
     "output_type": "execute_result"
    }
   ],
   "source": [
    "16*4"
   ]
  },
  {
   "cell_type": "code",
   "execution_count": 40,
   "metadata": {},
   "outputs": [
    {
     "data": {
      "text/plain": [
       "48"
      ]
     },
     "execution_count": 40,
     "metadata": {},
     "output_type": "execute_result"
    }
   ],
   "source": [
    "a = np.array([xx.ravel(), yy.ravel()]).T\n",
    "len(a)"
   ]
  },
  {
   "cell_type": "code",
   "execution_count": 38,
   "metadata": {},
   "outputs": [
    {
     "data": {
      "text/plain": [
       "[[0, 1, 8], [1, 9, 8]]"
      ]
     },
     "execution_count": 38,
     "metadata": {},
     "output_type": "execute_result"
    }
   ],
   "source": [
    "nx=8\n",
    "face_elem = [[0, 1, nx], [1, nx+1, nx]]\n",
    "face_elem"
   ]
  },
  {
   "cell_type": "code",
   "execution_count": 44,
   "metadata": {},
   "outputs": [
    {
     "data": {
      "text/plain": [
       "array([[0, 1, 8],\n",
       "       [1, 9, 8],\n",
       "       [0, 1, 8],\n",
       "       [1, 9, 8],\n",
       "       [0, 1, 8],\n",
       "       [1, 9, 8],\n",
       "       [0, 1, 8],\n",
       "       [1, 9, 8],\n",
       "       [0, 1, 8],\n",
       "       [1, 9, 8],\n",
       "       [0, 1, 8],\n",
       "       [1, 9, 8],\n",
       "       [0, 1, 8],\n",
       "       [1, 9, 8],\n",
       "       [0, 1, 8],\n",
       "       [1, 9, 8],\n",
       "       [0, 1, 8],\n",
       "       [1, 9, 8],\n",
       "       [0, 1, 8],\n",
       "       [1, 9, 8],\n",
       "       [0, 1, 8],\n",
       "       [1, 9, 8],\n",
       "       [0, 1, 8],\n",
       "       [1, 9, 8]])"
      ]
     },
     "execution_count": 44,
     "metadata": {},
     "output_type": "execute_result"
    }
   ],
   "source": [
    "npixels = 12\n",
    "np.tile(face_elem, [npixels, 1])"
   ]
  },
  {
   "cell_type": "code",
   "execution_count": 48,
   "metadata": {},
   "outputs": [
    {
     "data": {
      "text/plain": [
       "array([[ 0,  0,  0],\n",
       "       [ 0,  0,  0],\n",
       "       [ 2,  2,  2],\n",
       "       [ 2,  2,  2],\n",
       "       [ 4,  4,  4],\n",
       "       [ 4,  4,  4],\n",
       "       [ 6,  6,  6],\n",
       "       [ 6,  6,  6],\n",
       "       [ 8,  8,  8],\n",
       "       [ 8,  8,  8],\n",
       "       [10, 10, 10],\n",
       "       [10, 10, 10],\n",
       "       [12, 12, 12],\n",
       "       [12, 12, 12],\n",
       "       [14, 14, 14],\n",
       "       [14, 14, 14],\n",
       "       [16, 16, 16],\n",
       "       [16, 16, 16],\n",
       "       [18, 18, 18],\n",
       "       [18, 18, 18],\n",
       "       [20, 20, 20],\n",
       "       [20, 20, 20],\n",
       "       [22, 22, 22],\n",
       "       [22, 22, 22]], dtype=uint32)"
      ]
     },
     "execution_count": 48,
     "metadata": {},
     "output_type": "execute_result"
    }
   ],
   "source": [
    "np.repeat(np.arange(0, npixels*2, 2, dtype=np.uint32), 2*3, axis=0).reshape(npixels*2, 3)"
   ]
  },
  {
   "cell_type": "code",
   "execution_count": null,
   "metadata": {},
   "outputs": [],
   "source": [
    "np.tile(face_elem, [npixels, 1]) + np.repeat(\n",
    "    np.arange(0, npixels*2, 2, dtype=np.uint32), 2*3, axis=0).reshape(npixels*2, 3) + np.repeat(\n",
    "    np.arange(0, nx*2 * (ny), 2, dtype=np.uint32), 2*3, axis=0).reshape(npixels*2, 3))"
   ]
  },
  {
   "cell_type": "code",
   "execution_count": 49,
   "metadata": {},
   "outputs": [],
   "source": [
    "nx = 4\n",
    "ny = 2"
   ]
  },
  {
   "cell_type": "code",
   "execution_count": 51,
   "metadata": {},
   "outputs": [
    {
     "data": {
      "text/plain": [
       "array([0, 0, 0, 0, 0, 0, 0, 0, 0, 0, 0, 0, 0, 0, 0, 0, 0, 0, 0, 0, 0, 0,\n",
       "       0, 0, 8, 8, 8, 8, 8, 8, 8, 8, 8, 8, 8, 8, 8, 8, 8, 8, 8, 8, 8, 8,\n",
       "       8, 8, 8, 8], dtype=uint32)"
      ]
     },
     "execution_count": 51,
     "metadata": {},
     "output_type": "execute_result"
    }
   ],
   "source": [
    "np.repeat(np.arange(0, (nx*2)*(ny), nx*2, dtype=np.uint32), (nx*2)*3, axis=0)"
   ]
  },
  {
   "cell_type": "code",
   "execution_count": null,
   "metadata": {},
   "outputs": [],
   "source": []
  },
  {
   "cell_type": "code",
   "execution_count": null,
   "metadata": {},
   "outputs": [],
   "source": []
  }
 ],
 "metadata": {
  "kernelspec": {
   "display_name": "Python 3",
   "language": "python",
   "name": "python3"
  },
  "language_info": {
   "codemirror_mode": {
    "name": "ipython",
    "version": 3
   },
   "file_extension": ".py",
   "mimetype": "text/x-python",
   "name": "python",
   "nbconvert_exporter": "python",
   "pygments_lexer": "ipython3",
   "version": "3.7.4"
  }
 },
 "nbformat": 4,
 "nbformat_minor": 2
}
