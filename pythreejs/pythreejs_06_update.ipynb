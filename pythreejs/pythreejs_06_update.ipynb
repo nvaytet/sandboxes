{
 "cells": [
  {
   "cell_type": "code",
   "execution_count": 1,
   "metadata": {},
   "outputs": [],
   "source": [
    "from pythreejs import *\n",
    "from IPython.display import display"
   ]
  },
  {
   "cell_type": "code",
   "execution_count": 2,
   "metadata": {},
   "outputs": [],
   "source": [
    "import numpy as np"
   ]
  },
  {
   "cell_type": "code",
   "execution_count": 3,
   "metadata": {},
   "outputs": [],
   "source": [
    "import random"
   ]
  },
  {
   "cell_type": "code",
   "execution_count": 4,
   "metadata": {},
   "outputs": [],
   "source": [
    "view_width = 600\n",
    "view_height = 600"
   ]
  },
  {
   "cell_type": "code",
   "execution_count": 5,
   "metadata": {},
   "outputs": [
    {
     "data": {
      "text/plain": [
       "(2, 1, 1, 'final')"
      ]
     },
     "execution_count": 5,
     "metadata": {},
     "output_type": "execute_result"
    }
   ],
   "source": [
    "import pythreejs\n",
    "pythreejs.version_info"
   ]
  },
  {
   "cell_type": "code",
   "execution_count": 12,
   "metadata": {},
   "outputs": [],
   "source": [
    "def createColors():\n",
    "    c = []\n",
    "    for i in range(0,len(faces)*3):\n",
    "        color = [random.uniform(0, 1), random.uniform(0, 1), random.uniform(0, 1)]\n",
    "        c.append(color)\n",
    "        c.append(color)\n",
    "        c.append(color)\n",
    "        color = [random.uniform(0, 1), random.uniform(0, 1), random.uniform(0, 1)]\n",
    "        c.append(color)\n",
    "        c.append(color)\n",
    "        c.append(color)\n",
    "    print(np.shape(c))\n",
    "    return c"
   ]
  },
  {
   "cell_type": "code",
   "execution_count": 13,
   "metadata": {},
   "outputs": [],
   "source": [
    "from ipywidgets import widgets\n",
    "def changeMeshColors(ev):\n",
    "    geometry.attributes['color'].array = createColors()\n",
    "    \n",
    "button = widgets.Button(description=\"Change colors\")\n",
    "button.on_click(changeMeshColors)"
   ]
  },
  {
   "cell_type": "code",
   "execution_count": 15,
   "metadata": {},
   "outputs": [
    {
     "name": "stdout",
     "output_type": "stream",
     "text": [
      "(36, 3)\n",
      "(216, 3)\n"
     ]
    },
    {
     "data": {
      "application/vnd.jupyter.widget-view+json": {
       "model_id": "3e29793f1140435391d47d4736c1111f",
       "version_major": 2,
       "version_minor": 0
      },
      "text/plain": [
       "Renderer(camera=PerspectiveCamera(position=(3.0, 3.0, 3.0), quaternion=(0.0, 0.0, 0.0, 1.0), scale=(1.0, 1.0, …"
      ]
     },
     "metadata": {},
     "output_type": "display_data"
    },
    {
     "data": {
      "application/vnd.jupyter.widget-view+json": {
       "model_id": "75ab19f8bc044139925bebfc14409729",
       "version_major": 2,
       "version_minor": 0
      },
      "text/plain": [
       "Button(description='Change colors', style=ButtonStyle())"
      ]
     },
     "metadata": {},
     "output_type": "display_data"
    }
   ],
   "source": [
    "vertices = [\n",
    "    [0., 0., 0.],\n",
    "    [0., 0., 1.],\n",
    "    [0., 1., 0.],\n",
    "    [0., 1., 1.],\n",
    "    [1., 0., 0.],\n",
    "    [1., 0., 1.],\n",
    "    [1., 1., 0.],\n",
    "    [1., 1., 1.]\n",
    "]\n",
    "\n",
    "faces = [\n",
    "    [0, 1, 3],\n",
    "    [0, 3, 2],\n",
    "    [0, 2, 4],\n",
    "    [2, 6, 4],\n",
    "    [0, 4, 1],\n",
    "    [1, 4, 5],\n",
    "    [2, 3, 6],\n",
    "    [3, 7, 6],\n",
    "    [1, 5, 3],\n",
    "    [3, 5, 7],\n",
    "    [4, 6, 5],\n",
    "    [5, 6, 7]\n",
    "]\n",
    "\n",
    "p = []\n",
    "for f in faces:\n",
    "    for v in f:\n",
    "        p.append(vertices[v])\n",
    "\n",
    "print(np.shape(p))\n",
    "        \n",
    "# Create the buffer geometry:\n",
    "geometry = BufferGeometry(attributes=dict(\n",
    "    position=BufferAttribute(p),\n",
    "    color=BufferAttribute(createColors())\n",
    "))\n",
    "\n",
    "# Create a mesh. Note that the material need to be told to use the vertex colors.\n",
    "mesh = Mesh(\n",
    "    geometry=geometry,\n",
    "    material=MeshBasicMaterial(vertexColors='FaceColors'),\n",
    "    position=[-0.5, -0.5, -0.5],   # Center the cube\n",
    ")\n",
    "\n",
    "scene = Scene(children=[mesh], background=\"#cccccc\")\n",
    "\n",
    "c = PerspectiveCamera(position=[3, 3, 3])\n",
    "\n",
    "rendererCube = Renderer(camera=c,\n",
    "                        scene=scene, \n",
    "                        controls=[OrbitControls(controlling=c)])\n",
    "\n",
    "display(rendererCube, button)"
   ]
  },
  {
   "cell_type": "code",
   "execution_count": 19,
   "metadata": {},
   "outputs": [
    {
     "data": {
      "text/plain": [
       "36.0"
      ]
     },
     "execution_count": 19,
     "metadata": {},
     "output_type": "execute_result"
    }
   ],
   "source": [
    "216/6"
   ]
  },
  {
   "cell_type": "code",
   "execution_count": null,
   "metadata": {},
   "outputs": [],
   "source": []
  }
 ],
 "metadata": {
  "kernelspec": {
   "display_name": "Python 3",
   "language": "python",
   "name": "python3"
  },
  "language_info": {
   "codemirror_mode": {
    "name": "ipython",
    "version": 3
   },
   "file_extension": ".py",
   "mimetype": "text/x-python",
   "name": "python",
   "nbconvert_exporter": "python",
   "pygments_lexer": "ipython3",
   "version": "3.7.4"
  }
 },
 "nbformat": 4,
 "nbformat_minor": 2
}
