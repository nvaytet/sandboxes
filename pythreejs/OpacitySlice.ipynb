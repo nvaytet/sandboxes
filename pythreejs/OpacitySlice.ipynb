{
 "cells": [
  {
   "cell_type": "code",
   "execution_count": null,
   "metadata": {},
   "outputs": [],
   "source": [
    "import pythreejs as p3\n",
    "import numpy as np\n",
    "import ipywidgets as w\n",
    "import matplotlib.cm as cm"
   ]
  },
  {
   "cell_type": "code",
   "execution_count": null,
   "metadata": {},
   "outputs": [],
   "source": [
    "scalar_map = cm.ScalarMappable(cmap='viridis')"
   ]
  },
  {
   "cell_type": "code",
   "execution_count": null,
   "metadata": {},
   "outputs": [],
   "source": [
    "N = 100\n",
    "#c = np.random.random([N**3, 4])\n",
    "#pos = 10.0*(np.random.random([N, 3]) - 0.5)\n",
    "p = np.linspace(-5.0, 5.0, N)\n",
    "x, y, z = np.meshgrid(p, p, p)\n",
    "r = np.sqrt(x.ravel()**2 + y.ravel()**2 + z.ravel()**2)\n",
    "a = np.sin(r)\n",
    "c = scalar_map.to_rgba(a).astype(np.float32)\n",
    "c[:, 3] = 0.1"
   ]
  },
  {
   "cell_type": "code",
   "execution_count": null,
   "metadata": {},
   "outputs": [],
   "source": [
    "pos = np.array([x.ravel(), y.ravel(), z.ravel()]).T\n",
    "geometry = p3.BufferGeometry(\n",
    "    attributes={\n",
    "        'position':\n",
    "        p3.BufferAttribute(array=pos),\n",
    "        'rgba_color':\n",
    "        p3.BufferAttribute(array=c),\n",
    "        'color':\n",
    "        p3.BufferAttribute(array=np.random.random([N, 3])),\n",
    "#         'size': 20.\n",
    "    })\n",
    "material = p3.ShaderMaterial(\n",
    "    vertexShader='''\n",
    "precision highp float;\n",
    "attribute vec4 rgba_color;\n",
    "varying vec3 mypos;\n",
    "varying vec4 vColor;\n",
    "varying vec4 projected;\n",
    "float xDelta, yDelta, zDelta, delta;\n",
    "void main(){\n",
    "    vColor = rgba_color;\n",
    "//    vColor = vec4(color, 1.0);\n",
    "    projected = projectionMatrix * modelViewMatrix * vec4(position, 1.0);\n",
    "    gl_Position = projected;\n",
    "    // use the delta between the point position and camera position to size point\n",
    "    xDelta = pow(position[0] - cameraPosition[0], 2.0);\n",
    "    yDelta = pow(position[1] - cameraPosition[1], 2.0);\n",
    "    zDelta = pow(position[2] - cameraPosition[2], 2.0);\n",
    "    delta = pow(xDelta + yDelta + zDelta, 0.5);\n",
    "    gl_PointSize = 40.0 / delta;\n",
    "}\n",
    "''',\n",
    "    fragmentShader='''\n",
    "precision highp float;\n",
    "varying vec4 vColor;\n",
    "void main() {\n",
    "    gl_FragColor = vColor;\n",
    "}\n",
    "''',\n",
    "    vertexColors='VertexColors',\n",
    "    transparent=True,\n",
    "    depthTest=False,\n",
    "    alphaTest=0.5,\n",
    "#     polygonOffset = True,\n",
    "#     polygonOffsetFactor = -4\n",
    ")\n",
    "# material = p3.PointsMaterial(vertexColors='VertexColors',\n",
    "# #                                          size=self._pixel_size,\n",
    "#                                          transparent=True)\n",
    "points = p3.Points(geometry=geometry,\n",
    "                        material=material)"
   ]
  },
  {
   "cell_type": "code",
   "execution_count": null,
   "metadata": {},
   "outputs": [],
   "source": [
    "view_width = 600\n",
    "view_height = 400\n",
    "camera = p3.PerspectiveCamera(position=[20, 0, 0], aspect=view_width/view_height)\n",
    "key_light = p3.DirectionalLight(position=[0, 10, 10])\n",
    "ambient_light = p3.AmbientLight()\n",
    "scene = p3.Scene(children=[points, camera, key_light, ambient_light], background=\"#ffffff\")\n",
    "controller = p3.OrbitControls(controlling=camera)\n",
    "renderer = p3.Renderer(camera=camera, scene=scene, controls=[controller],\n",
    "                    width=view_width, height=view_height)\n",
    "renderer"
   ]
  },
  {
   "cell_type": "code",
   "execution_count": null,
   "metadata": {
    "scrolled": false
   },
   "outputs": [],
   "source": [
    "def update_slice_pos(change):\n",
    "#    newc = np.where(np.abs(pos[:, 0] - change[\"new\"]) < 0.5, 1.0, 0.1)\n",
    "#     newc = np.where(np.abs(np.sqrt(\n",
    "#         pos[:, 0]*pos[:, 0] + pos[:, 1]*pos[:, 1] + pos[:, 2]*pos[:, 2]) - change[\"new\"]) < 0.5, 1.0, 0.0)\n",
    "    newc = np.where(np.abs(np.sqrt(\n",
    "        pos[:, 0]*pos[:, 0] + pos[:, 1]*pos[:, 1]) - change[\"new\"]) < 0.5, 1.0, 0.0)\n",
    "    c3 = geometry.attributes[\"rgba_color\"].array\n",
    "    c3[:, 3] = newc\n",
    "    geometry.attributes[\"rgba_color\"].array = c3\n",
    "#sl = w.FloatSlider(min=-5, max=5, value=0)\n",
    "sl = w.FloatSlider(min=0, max=8, value=0)\n",
    "sl.observe(update_slice_pos, names=\"value\")\n",
    "sl"
   ]
  },
  {
   "cell_type": "code",
   "execution_count": null,
   "metadata": {},
   "outputs": [],
   "source": []
  }
 ],
 "metadata": {
  "kernelspec": {
   "display_name": "Python 3",
   "language": "python",
   "name": "python3"
  },
  "language_info": {
   "codemirror_mode": {
    "name": "ipython",
    "version": 3
   },
   "file_extension": ".py",
   "mimetype": "text/x-python",
   "name": "python",
   "nbconvert_exporter": "python",
   "pygments_lexer": "ipython3",
   "version": "3.7.4"
  }
 },
 "nbformat": 4,
 "nbformat_minor": 2
}
