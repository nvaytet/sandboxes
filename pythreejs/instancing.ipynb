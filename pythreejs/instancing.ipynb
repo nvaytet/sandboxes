{
 "cells": [
  {
   "cell_type": "code",
   "execution_count": 1,
   "metadata": {},
   "outputs": [],
   "source": [
    "import pythreejs as p3\n",
    "import numpy as np"
   ]
  },
  {
   "cell_type": "code",
   "execution_count": 2,
   "metadata": {},
   "outputs": [],
   "source": [
    "geometry = p3.BoxBufferGeometry(\n",
    "    width=5,\n",
    "    height=10,\n",
    "    depth=15)"
   ]
  },
  {
   "cell_type": "code",
   "execution_count": 3,
   "metadata": {},
   "outputs": [],
   "source": [
    "morph = p3.BufferGeometry.from_geometry(geometry)"
   ]
  },
  {
   "cell_type": "code",
   "execution_count": 4,
   "metadata": {},
   "outputs": [],
   "source": [
    "M = len(morph.attributes[\"position\"].array)"
   ]
  },
  {
   "cell_type": "code",
   "execution_count": 14,
   "metadata": {},
   "outputs": [],
   "source": [
    "N = 5\n",
    "\n",
    "colors = p3.InstancedBufferAttribute(array=np.random.random([N*M, 4]))\n",
    "offsets = p3.InstancedBufferAttribute(array=np.random.random([N, 3]) * 10.0)\n"
   ]
  },
  {
   "cell_type": "code",
   "execution_count": 23,
   "metadata": {
    "scrolled": false
   },
   "outputs": [],
   "source": [
    "instancedGeometry = p3.InstancedBufferGeometry()\n",
    "for key, attr in morph.attributes.items():\n",
    "#     instancedGeometry.attributes[key] = p3.InstancedBufferAttribute(array=attr.array)\n",
    "    instancedGeometry.attributes[key] = attr\n",
    "# instancedGeometry.attributes"
   ]
  },
  {
   "cell_type": "code",
   "execution_count": 24,
   "metadata": {
    "scrolled": false
   },
   "outputs": [
    {
     "data": {
      "text/plain": [
       "{'position': BufferAttribute(array=array([[ 2.5,  5. ,  7.5],\n",
       "        [ 2.5,  5. , -7.5],\n",
       "        [ 2.5, -5. ,  7.5],\n",
       "        [ 2.5, -5. , -7.5],\n",
       "        [-2.5,  5. , -7.5],\n",
       "        [-2.5,  5. ,  7.5],\n",
       "        [-2.5, -5. , -7.5],\n",
       "        [-2.5, -5. ,  7.5],\n",
       "        [-2.5,  5. , -7.5],\n",
       "        [ 2.5,  5. , -7.5],\n",
       "        [-2.5,  5. ,  7.5],\n",
       "        [ 2.5,  5. ,  7.5],\n",
       "        [-2.5, -5. ,  7.5],\n",
       "        [ 2.5, -5. ,  7.5],\n",
       "        [-2.5, -5. , -7.5],\n",
       "        [ 2.5, -5. , -7.5],\n",
       "        [-2.5,  5. ,  7.5],\n",
       "        [ 2.5,  5. ,  7.5],\n",
       "        [-2.5, -5. ,  7.5],\n",
       "        [ 2.5, -5. ,  7.5],\n",
       "        [ 2.5,  5. , -7.5],\n",
       "        [-2.5,  5. , -7.5],\n",
       "        [ 2.5, -5. , -7.5],\n",
       "        [-2.5, -5. , -7.5]], dtype=float32), normalized=True, version=1),\n",
       " 'normal': BufferAttribute(array=array([[ 1.,  0.,  0.],\n",
       "        [ 1.,  0.,  0.],\n",
       "        [ 1.,  0.,  0.],\n",
       "        [ 1.,  0.,  0.],\n",
       "        [-1.,  0.,  0.],\n",
       "        [-1.,  0.,  0.],\n",
       "        [-1.,  0.,  0.],\n",
       "        [-1.,  0.,  0.],\n",
       "        [ 0.,  1.,  0.],\n",
       "        [ 0.,  1.,  0.],\n",
       "        [ 0.,  1.,  0.],\n",
       "        [ 0.,  1.,  0.],\n",
       "        [ 0., -1.,  0.],\n",
       "        [ 0., -1.,  0.],\n",
       "        [ 0., -1.,  0.],\n",
       "        [ 0., -1.,  0.],\n",
       "        [ 0.,  0.,  1.],\n",
       "        [ 0.,  0.,  1.],\n",
       "        [ 0.,  0.,  1.],\n",
       "        [ 0.,  0.,  1.],\n",
       "        [ 0.,  0., -1.],\n",
       "        [ 0.,  0., -1.],\n",
       "        [ 0.,  0., -1.],\n",
       "        [ 0.,  0., -1.]], dtype=float32), normalized=True, version=1),\n",
       " 'uv': BufferAttribute(array=array([[0., 1.],\n",
       "        [1., 1.],\n",
       "        [0., 0.],\n",
       "        [1., 0.],\n",
       "        [0., 1.],\n",
       "        [1., 1.],\n",
       "        [0., 0.],\n",
       "        [1., 0.],\n",
       "        [0., 1.],\n",
       "        [1., 1.],\n",
       "        [0., 0.],\n",
       "        [1., 0.],\n",
       "        [0., 1.],\n",
       "        [1., 1.],\n",
       "        [0., 0.],\n",
       "        [1., 0.],\n",
       "        [0., 1.],\n",
       "        [1., 1.],\n",
       "        [0., 0.],\n",
       "        [1., 0.],\n",
       "        [0., 1.],\n",
       "        [1., 1.],\n",
       "        [0., 0.],\n",
       "        [1., 0.]], dtype=float32), normalized=True, version=1),\n",
       " 'offset': InstancedBufferAttribute(array=array([[3.8947573 , 7.919837  , 1.7732375 ],\n",
       "        [5.130551  , 2.0557213 , 4.7069316 ],\n",
       "        [6.779362  , 5.0923576 , 8.945093  ],\n",
       "        [2.8143141 , 7.3071036 , 3.3847117 ],\n",
       "        [0.68173826, 2.2544029 , 8.537048  ]], dtype=float32), normalized=True, version=0)}"
      ]
     },
     "execution_count": 24,
     "metadata": {},
     "output_type": "execute_result"
    }
   ],
   "source": [
    "instancedGeometry.maxInstancedCount = N\n",
    "\n",
    "instancedGeometry.attributes['offset'] = offsets\n",
    "# instancedGeometry.attributes['color'] = colors\n",
    "\n",
    "instancedGeometry.attributes"
   ]
  },
  {
   "cell_type": "code",
   "execution_count": 25,
   "metadata": {},
   "outputs": [],
   "source": [
    "# mesh = p3.Mesh( instancedGeometry, p3.MeshBasicMaterial(vertexColors='VertexColors') )\n",
    "mesh = p3.Mesh( instancedGeometry, p3.MeshBasicMaterial(color='red') )\n",
    "# mesh = p3.Mesh( geometry, p3.MeshBasicMaterial(color='red') )\n",
    "# mesh = p3.Mesh( instancedGeometry, p3.MeshMaterial(vertexColors='VertexColors'))\n"
   ]
  },
  {
   "cell_type": "code",
   "execution_count": 26,
   "metadata": {},
   "outputs": [
    {
     "data": {
      "application/vnd.jupyter.widget-view+json": {
       "model_id": "110d4b76097449978ea2138b0c8570ea",
       "version_major": 2,
       "version_minor": 0
      },
      "text/plain": [
       "Renderer(camera=PerspectiveCamera(aspect=1.5, position=(20.0, 0.0, 0.0), quaternion=(0.0, 0.0, 0.0, 1.0), scal…"
      ]
     },
     "metadata": {},
     "output_type": "display_data"
    }
   ],
   "source": [
    "view_width = 600\n",
    "view_height = 400\n",
    "camera = p3.PerspectiveCamera(position=[20, 0, 0], aspect=view_width/view_height)\n",
    "key_light = p3.DirectionalLight(position=[0, 10, 10])\n",
    "ambient_light = p3.AmbientLight()\n",
    "scene = p3.Scene(children=[mesh, camera, key_light, ambient_light], background=\"#000000\")\n",
    "controller = p3.OrbitControls(controlling=camera)\n",
    "renderer = p3.Renderer(camera=camera, scene=scene, controls=[controller],\n",
    "                    width=view_width, height=view_height)\n",
    "renderer"
   ]
  },
  {
   "cell_type": "code",
   "execution_count": 18,
   "metadata": {},
   "outputs": [
    {
     "data": {
      "application/vnd.jupyter.widget-view+json": {
       "model_id": "e867b16d6d184495ae0ae51afa128c81",
       "version_major": 2,
       "version_minor": 0
      },
      "text/plain": [
       "Preview(child=WireframeGeometry(geometry=BufferGeometry(index=BufferAttribute(array=array([[ 0],\n",
       "       [ 2],\n",
       "…"
      ]
     },
     "metadata": {},
     "output_type": "display_data"
    }
   ],
   "source": [
    "p3.WireframeGeometry(morph)"
   ]
  },
  {
   "cell_type": "code",
   "execution_count": 11,
   "metadata": {},
   "outputs": [
    {
     "data": {
      "text/plain": [
       "{'position': BufferAttribute(array=array([[ 2.5,  5. ,  7.5],\n",
       "        [ 2.5,  5. , -7.5],\n",
       "        [ 2.5, -5. ,  7.5],\n",
       "        [ 2.5, -5. , -7.5],\n",
       "        [-2.5,  5. , -7.5],\n",
       "        [-2.5,  5. ,  7.5],\n",
       "        [-2.5, -5. , -7.5],\n",
       "        [-2.5, -5. ,  7.5],\n",
       "        [-2.5,  5. , -7.5],\n",
       "        [ 2.5,  5. , -7.5],\n",
       "        [-2.5,  5. ,  7.5],\n",
       "        [ 2.5,  5. ,  7.5],\n",
       "        [-2.5, -5. ,  7.5],\n",
       "        [ 2.5, -5. ,  7.5],\n",
       "        [-2.5, -5. , -7.5],\n",
       "        [ 2.5, -5. , -7.5],\n",
       "        [-2.5,  5. ,  7.5],\n",
       "        [ 2.5,  5. ,  7.5],\n",
       "        [-2.5, -5. ,  7.5],\n",
       "        [ 2.5, -5. ,  7.5],\n",
       "        [ 2.5,  5. , -7.5],\n",
       "        [-2.5,  5. , -7.5],\n",
       "        [ 2.5, -5. , -7.5],\n",
       "        [-2.5, -5. , -7.5]], dtype=float32), normalized=True, version=1),\n",
       " 'normal': BufferAttribute(array=array([[ 1.,  0.,  0.],\n",
       "        [ 1.,  0.,  0.],\n",
       "        [ 1.,  0.,  0.],\n",
       "        [ 1.,  0.,  0.],\n",
       "        [-1.,  0.,  0.],\n",
       "        [-1.,  0.,  0.],\n",
       "        [-1.,  0.,  0.],\n",
       "        [-1.,  0.,  0.],\n",
       "        [ 0.,  1.,  0.],\n",
       "        [ 0.,  1.,  0.],\n",
       "        [ 0.,  1.,  0.],\n",
       "        [ 0.,  1.,  0.],\n",
       "        [ 0., -1.,  0.],\n",
       "        [ 0., -1.,  0.],\n",
       "        [ 0., -1.,  0.],\n",
       "        [ 0., -1.,  0.],\n",
       "        [ 0.,  0.,  1.],\n",
       "        [ 0.,  0.,  1.],\n",
       "        [ 0.,  0.,  1.],\n",
       "        [ 0.,  0.,  1.],\n",
       "        [ 0.,  0., -1.],\n",
       "        [ 0.,  0., -1.],\n",
       "        [ 0.,  0., -1.],\n",
       "        [ 0.,  0., -1.]], dtype=float32), normalized=True, version=1),\n",
       " 'uv': BufferAttribute(array=array([[0., 1.],\n",
       "        [1., 1.],\n",
       "        [0., 0.],\n",
       "        [1., 0.],\n",
       "        [0., 1.],\n",
       "        [1., 1.],\n",
       "        [0., 0.],\n",
       "        [1., 0.],\n",
       "        [0., 1.],\n",
       "        [1., 1.],\n",
       "        [0., 0.],\n",
       "        [1., 0.],\n",
       "        [0., 1.],\n",
       "        [1., 1.],\n",
       "        [0., 0.],\n",
       "        [1., 0.],\n",
       "        [0., 1.],\n",
       "        [1., 1.],\n",
       "        [0., 0.],\n",
       "        [1., 0.],\n",
       "        [0., 1.],\n",
       "        [1., 1.],\n",
       "        [0., 0.],\n",
       "        [1., 0.]], dtype=float32), normalized=True, version=1)}"
      ]
     },
     "execution_count": 11,
     "metadata": {},
     "output_type": "execute_result"
    }
   ],
   "source": [
    "morph.attributes"
   ]
  },
  {
   "cell_type": "code",
   "execution_count": null,
   "metadata": {},
   "outputs": [],
   "source": []
  }
 ],
 "metadata": {
  "kernelspec": {
   "display_name": "Python 3",
   "language": "python",
   "name": "python3"
  },
  "language_info": {
   "codemirror_mode": {
    "name": "ipython",
    "version": 3
   },
   "file_extension": ".py",
   "mimetype": "text/x-python",
   "name": "python",
   "nbconvert_exporter": "python",
   "pygments_lexer": "ipython3",
   "version": "3.7.4"
  }
 },
 "nbformat": 4,
 "nbformat_minor": 2
}
