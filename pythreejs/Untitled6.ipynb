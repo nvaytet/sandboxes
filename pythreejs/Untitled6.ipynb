{
 "cells": [
  {
   "cell_type": "code",
   "execution_count": 7,
   "metadata": {},
   "outputs": [],
   "source": [
    "import pythreejs as p3\n",
    "import numpy as np"
   ]
  },
  {
   "cell_type": "code",
   "execution_count": null,
   "metadata": {},
   "outputs": [],
   "source": []
  },
  {
   "cell_type": "code",
   "execution_count": null,
   "metadata": {},
   "outputs": [],
   "source": []
  },
  {
   "cell_type": "code",
   "execution_count": 17,
   "metadata": {},
   "outputs": [],
   "source": [
    "sm = p3.SpriteMaterial(map=p3.TextTexture(string=u'A unicode \\u018e string \\xf1', color='white', size=300, squareTexture=True),\n",
    "                       transparent=True)\n",
    "s = p3.Sprite(material=sm, position=[0, 0, 0], scaleToTexture=True, scale=[1, 1, 1])"
   ]
  },
  {
   "cell_type": "code",
   "execution_count": null,
   "metadata": {},
   "outputs": [],
   "source": []
  },
  {
   "cell_type": "code",
   "execution_count": 9,
   "metadata": {},
   "outputs": [
    {
     "ename": "SyntaxError",
     "evalue": "invalid syntax (<ipython-input-9-9eca5bd17932>, line 13)",
     "output_type": "error",
     "traceback": [
      "\u001b[0;36m  File \u001b[0;32m\"<ipython-input-9-9eca5bd17932>\"\u001b[0;36m, line \u001b[0;32m13\u001b[0m\n\u001b[0;31m    transparent=True)\u001b[0m\n\u001b[0m              ^\u001b[0m\n\u001b[0;31mSyntaxError\u001b[0m\u001b[0;31m:\u001b[0m invalid syntax\n"
     ]
    }
   ],
   "source": [
    "N = 100\n",
    "points_geometry = p3.BufferGeometry(\n",
    "    attributes={\n",
    "        'position':\n",
    "        p3.BufferAttribute(array=(np.random.random([N, 3])-0.5)*50.0),\n",
    "        'color':\n",
    "        self.p3.BufferAttribute(array=np.random.random([N, 3]))\n",
    "    })\n",
    "points_material = self.p3.PointsMaterial(\n",
    "    vertexColors='VertexColors',\n",
    "    size=1.0,\n",
    "    map=p3.TextTexture(string=\"0\", color='white', size=300, squareTexture=True)\n",
    "    transparent=True)\n",
    "points = self.p3.Points(geometry=points_geometry,\n",
    "                        material=points_material)\n",
    "return points_geometry, points_material, points"
   ]
  },
  {
   "cell_type": "code",
   "execution_count": null,
   "metadata": {},
   "outputs": [],
   "source": []
  },
  {
   "cell_type": "code",
   "execution_count": null,
   "metadata": {},
   "outputs": [],
   "source": []
  },
  {
   "cell_type": "code",
   "execution_count": 10,
   "metadata": {},
   "outputs": [],
   "source": [
    "line_geom = p3.BufferGeometry(attributes={\n",
    "    'position': p3.BufferAttribute(\n",
    "        array=np.array([[0, 0, 0], [1, 0, 0], [1, 1, 0],\n",
    "                       [0, 1, 0], [0, 0, 0]], dtype=np.float32))})\n",
    "line_mat = p3.LineBasicMaterial(color=\"black\", linewidth=1)\n",
    "line = p3.Line(geometry=line_geom, material=line_mat)"
   ]
  },
  {
   "cell_type": "code",
   "execution_count": 19,
   "metadata": {},
   "outputs": [],
   "source": [
    "# view_width = 600\n",
    "# view_height = 400\n",
    "# camera = p3.PerspectiveCamera(position=[0, 0, 50], aspect=view_width/view_height)\n",
    "# scene = p3.Scene(children=[s, camera, p3.AxesHelper(), line], background=\"#DDDDDD\")\n",
    "# controller = p3.OrbitControls(controlling=camera)\n",
    "# renderer = p3.Renderer(camera=camera, scene=scene, controls=[controller],\n",
    "#                     width=view_width, height=view_height)\n",
    "# renderer"
   ]
  },
  {
   "cell_type": "code",
   "execution_count": 10,
   "metadata": {},
   "outputs": [
    {
     "data": {
      "text/plain": [
       "BufferAttribute(array=array([[0., 0., 0.],\n",
       "       [1., 0., 0.],\n",
       "       [1., 1., 0.],\n",
       "       [0., 1., 0.],\n",
       "    …"
      ]
     },
     "metadata": {},
     "output_type": "display_data"
    }
   ],
   "source": [
    "line.geometry.attributes[\"position\"]"
   ]
  },
  {
   "cell_type": "code",
   "execution_count": 13,
   "metadata": {},
   "outputs": [],
   "source": [
    "camera.lookAt([2, 2, 2])"
   ]
  },
  {
   "cell_type": "code",
   "execution_count": 16,
   "metadata": {},
   "outputs": [
    {
     "data": {
      "text/plain": [
       "'A unicode Ǝ string ñ'"
      ]
     },
     "execution_count": 16,
     "metadata": {},
     "output_type": "execute_result"
    }
   ],
   "source": [
    "u'A unicode \\u018e string \\xf1'"
   ]
  },
  {
   "cell_type": "code",
   "execution_count": null,
   "metadata": {},
   "outputs": [],
   "source": []
  }
 ],
 "metadata": {
  "kernelspec": {
   "display_name": "Python 3",
   "language": "python",
   "name": "python3"
  },
  "language_info": {
   "codemirror_mode": {
    "name": "ipython",
    "version": 3
   },
   "file_extension": ".py",
   "mimetype": "text/x-python",
   "name": "python",
   "nbconvert_exporter": "python",
   "pygments_lexer": "ipython3",
   "version": "3.7.4"
  }
 },
 "nbformat": 4,
 "nbformat_minor": 2
}
