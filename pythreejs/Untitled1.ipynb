{
 "cells": [
  {
   "cell_type": "code",
   "execution_count": 1,
   "metadata": {},
   "outputs": [],
   "source": [
    "import sys\n",
    "sys.path.append('/home/nvaytet/work/code/sciview/src')\n",
    "import sciview as sv\n",
    "import numpy as np"
   ]
  },
  {
   "cell_type": "code",
   "execution_count": 2,
   "metadata": {
    "scrolled": false
   },
   "outputs": [
    {
     "name": "stdout",
     "output_type": "stream",
     "text": [
      "(32, 3)\n",
      "(16, 3)\n",
      "(32, 3)\n",
      "float32\n",
      "uint32\n",
      "float32\n",
      "vertices\n",
      "[[-0.5 -0.5  0. ]\n",
      " [ 0.5 -0.5  0. ]\n",
      " [ 0.5 -0.5  0. ]\n",
      " [ 1.5 -0.5  0. ]\n",
      " [ 1.5 -0.5  0. ]\n",
      " [ 2.5 -0.5  0. ]\n",
      " [ 2.5 -0.5  0. ]\n",
      " [ 3.5 -0.5  0. ]\n",
      " [-0.5  0.5  0. ]\n",
      " [ 0.5  0.5  0. ]\n",
      " [ 0.5  0.5  0. ]\n",
      " [ 1.5  0.5  0. ]\n",
      " [ 1.5  0.5  0. ]\n",
      " [ 2.5  0.5  0. ]\n",
      " [ 2.5  0.5  0. ]\n",
      " [ 3.5  0.5  0. ]\n",
      " [-0.5  0.5  0. ]\n",
      " [ 0.5  0.5  0. ]\n",
      " [ 0.5  0.5  0. ]\n",
      " [ 1.5  0.5  0. ]\n",
      " [ 1.5  0.5  0. ]\n",
      " [ 2.5  0.5  0. ]\n",
      " [ 2.5  0.5  0. ]\n",
      " [ 3.5  0.5  0. ]\n",
      " [-0.5  1.5  0. ]\n",
      " [ 0.5  1.5  0. ]\n",
      " [ 0.5  1.5  0. ]\n",
      " [ 1.5  1.5  0. ]\n",
      " [ 1.5  1.5  0. ]\n",
      " [ 2.5  1.5  0. ]\n",
      " [ 2.5  1.5  0. ]\n",
      " [ 3.5  1.5  0. ]]\n",
      "faces\n",
      "[[ 0  1  8]\n",
      " [ 1  9  8]\n",
      " [ 2  3 10]\n",
      " [ 3 11 10]\n",
      " [ 4  5 12]\n",
      " [ 5 13 12]\n",
      " [ 6  7 14]\n",
      " [ 7 15 14]\n",
      " [16 17 24]\n",
      " [17 25 24]\n",
      " [18 19 26]\n",
      " [19 27 26]\n",
      " [20 21 28]\n",
      " [21 29 28]\n",
      " [22 23 30]\n",
      " [23 31 30]]\n",
      "colors\n",
      "[[0.267004 0.004874 0.329415]\n",
      " [0.267004 0.004874 0.329415]\n",
      " [0.267004 0.004874 0.329415]\n",
      " [0.267004 0.004874 0.329415]\n",
      " [0.185556 0.41857  0.556753]\n",
      " [0.185556 0.41857  0.556753]\n",
      " [0.185556 0.41857  0.556753]\n",
      " [0.185556 0.41857  0.556753]\n",
      " [0.993248 0.906157 0.143936]\n",
      " [0.993248 0.906157 0.143936]\n",
      " [0.993248 0.906157 0.143936]\n",
      " [0.993248 0.906157 0.143936]\n",
      " [0.175707 0.6979   0.491033]\n",
      " [0.175707 0.6979   0.491033]\n",
      " [0.175707 0.6979   0.491033]\n",
      " [0.175707 0.6979   0.491033]\n",
      " [0.89632  0.893616 0.096335]\n",
      " [0.89632  0.893616 0.096335]\n",
      " [0.89632  0.893616 0.096335]\n",
      " [0.89632  0.893616 0.096335]\n",
      " [0.283091 0.110553 0.431554]\n",
      " [0.283091 0.110553 0.431554]\n",
      " [0.283091 0.110553 0.431554]\n",
      " [0.283091 0.110553 0.431554]\n",
      " [0.565498 0.84243  0.262877]\n",
      " [0.565498 0.84243  0.262877]\n",
      " [0.565498 0.84243  0.262877]\n",
      " [0.565498 0.84243  0.262877]\n",
      " [0.196571 0.711827 0.479221]\n",
      " [0.196571 0.711827 0.479221]\n",
      " [0.196571 0.711827 0.479221]\n",
      " [0.196571 0.711827 0.479221]]\n"
     ]
    },
    {
     "data": {
      "application/vnd.jupyter.widget-view+json": {
       "model_id": "acb050203df442ffaa9258d9a2532f15",
       "version_major": 2,
       "version_minor": 0
      },
      "text/plain": [
       "Renderer(camera=PerspectiveCamera(aspect=1.6, position=(0.0, 0.0, 10.0), quaternion=(0.0, 0.0, 0.0, 1.0), scal…"
      ]
     },
     "metadata": {},
     "output_type": "display_data"
    }
   ],
   "source": [
    "x = np.arange(4)\n",
    "y = np.arange(2)\n",
    "z = np.random.random([4, 2])\n",
    "sv.plot_2d(x, y, z)"
   ]
  },
  {
   "cell_type": "code",
   "execution_count": 5,
   "metadata": {},
   "outputs": [
    {
     "data": {
      "application/vnd.jupyter.widget-view+json": {
       "model_id": "19e8da73436b404d921e271042764c3f",
       "version_major": 2,
       "version_minor": 0
      },
      "text/plain": [
       "Preview(child=CylinderGeometry(radialSegments=10), shadowMap=WebGLShadowMap())"
      ]
     },
     "metadata": {},
     "output_type": "display_data"
    }
   ],
   "source": [
    "import pythreejs as p3\n",
    "geom = p3.CylinderGeometry(\n",
    "    radiusTop=1,\n",
    "    radiusBottom=1,\n",
    "    height=1,\n",
    "    radialSegments=10,\n",
    "    heightSegments=1,\n",
    "    openEnded=False,\n",
    "    thetaStart=0,\n",
    "    thetaLength=2.0*np.pi)\n",
    "geom"
   ]
  },
  {
   "cell_type": "code",
   "execution_count": null,
   "metadata": {},
   "outputs": [],
   "source": []
  },
  {
   "cell_type": "code",
   "execution_count": null,
   "metadata": {},
   "outputs": [],
   "source": []
  },
  {
   "cell_type": "code",
   "execution_count": 2,
   "metadata": {},
   "outputs": [
    {
     "data": {
      "text/plain": [
       "(50, 100)"
      ]
     },
     "execution_count": 2,
     "metadata": {},
     "output_type": "execute_result"
    }
   ],
   "source": [
    "import numpy as np\n",
    "N = 100\n",
    "M = 50\n",
    "xx = np.arange(N, dtype=np.float64)\n",
    "yy = np.arange(M, dtype=np.float64)\n",
    "x, y = np.meshgrid(xx, yy)\n",
    "b = N/20.0\n",
    "c = M/2.0\n",
    "r = np.sqrt(((x-c)/b)**2 + (y/b)**2)\n",
    "a = np.sin(r)\n",
    "a.shape"
   ]
  },
  {
   "cell_type": "code",
   "execution_count": 139,
   "metadata": {},
   "outputs": [
    {
     "data": {
      "application/vnd.jupyter.widget-view+json": {
       "model_id": "eb36ff78dd034e5b8c659bd5c1c5a657",
       "version_major": 2,
       "version_minor": 0
      },
      "text/plain": [
       "Renderer(camera=OrthographicCamera(bottom=500.0, far=400.0, near=-400.0, quaternion=(0.0, 0.0, 0.0, 1.0), righ…"
      ]
     },
     "metadata": {},
     "output_type": "display_data"
    }
   ],
   "source": [
    "sv.plot_2d(xx, yy, a)"
   ]
  },
  {
   "cell_type": "code",
   "execution_count": 3,
   "metadata": {},
   "outputs": [],
   "source": [
    "import pythreejs as p3"
   ]
  },
  {
   "cell_type": "code",
   "execution_count": 115,
   "metadata": {},
   "outputs": [
    {
     "data": {
      "application/vnd.jupyter.widget-view+json": {
       "model_id": "2dc822ce134c45639ca93d2e8b145fda",
       "version_major": 2,
       "version_minor": 0
      },
      "text/plain": [
       "Preview(child=WireframeGeometry(geometry=ParametricGeometry(func='function(u,v,out) {\\n        var x = 5 * (0.…"
      ]
     },
     "metadata": {},
     "output_type": "display_data"
    }
   ],
   "source": [
    "p3.WireframeGeometry(p3.ParametricGeometry(\n",
    "    func=\"\"\"function(u,v,out) {\n",
    "        var x = 5 * (0.5 - u);\n",
    "        var y = 5 * (0.5 - v);\n",
    "        out.set(10 * x, 10 * y, x*x - y*y);\n",
    "    }\"\"\",\n",
    "    slices=30,\n",
    "    stacks=20, _flat=True))"
   ]
  },
  {
   "cell_type": "code",
   "execution_count": 116,
   "metadata": {},
   "outputs": [
    {
     "data": {
      "text/plain": [
       "'function(u,v,out) { out.set(100 * u, 50 * v, 0);}'"
      ]
     },
     "execution_count": 116,
     "metadata": {},
     "output_type": "execute_result"
    }
   ],
   "source": [
    "func = \"function(u,v,out) {{ out.set({} * u, {} * v, 0);}}\".format(N, M)\n",
    "func"
   ]
  },
  {
   "cell_type": "code",
   "execution_count": 170,
   "metadata": {},
   "outputs": [
    {
     "data": {
      "text/plain": [
       "(100, 50)"
      ]
     },
     "execution_count": 170,
     "metadata": {},
     "output_type": "execute_result"
    }
   ],
   "source": [
    "N = 100\n",
    "M = 50\n",
    "xx = np.arange(N, dtype=np.float32)\n",
    "yy = np.arange(M, dtype=np.float32)\n",
    "x, y = np.meshgrid(xx, yy,indexing=\"ij\")\n",
    "# y, x = np.meshgrid(yy, xx)\n",
    "b = N/20.0\n",
    "c = M/2.0\n",
    "r = np.sqrt(((x-c)/b)**2 + (y/b)**2)\n",
    "a = np.sin(r)\n",
    "a.shape"
   ]
  },
  {
   "cell_type": "code",
   "execution_count": 180,
   "metadata": {},
   "outputs": [],
   "source": [
    "grid = p3.PlaneBufferGeometry(\n",
    "    width=N,\n",
    "    height=M,\n",
    "    widthSegments=1,\n",
    "    heightSegments=1)"
   ]
  },
  {
   "cell_type": "code",
   "execution_count": 230,
   "metadata": {},
   "outputs": [],
   "source": [
    "from matplotlib import cm\n",
    "scalar_map = cm.ScalarMappable(cmap='viridis')\n",
    "colors = scalar_map.to_rgba(a).astype(np.float32)\n",
    "texture = p3.DataTexture(data=colors,\n",
    "                         format=\"RGBAFormat\",\n",
    "                         type=\"FloatType\", flipY=True)\n",
    "#                          rotation=0.5*np.pi)"
   ]
  },
  {
   "cell_type": "code",
   "execution_count": 203,
   "metadata": {},
   "outputs": [
    {
     "data": {
      "application/vnd.jupyter.widget-view+json": {
       "model_id": "4a8ab6b6f79448bfb6e28b8d8143fcc4",
       "version_major": 2,
       "version_minor": 0
      },
      "text/plain": [
       "Renderer(camera=PerspectiveCamera(aspect=1.5, position=(0.0, 0.0, 100.0), quaternion=(0.0, 0.0, 0.0, 1.0), sca…"
      ]
     },
     "metadata": {},
     "output_type": "display_data"
    }
   ],
   "source": [
    "width=600\n",
    "height=400\n",
    "# grid = p3.GridHelper(size=10, divisions=10, colorCenterLine=\"#444444\", colorGrid=\"#888888\")\n",
    "\n",
    "# surf = p3.Mesh(geometry=grid,\n",
    "#                 material=p3.MeshBasicMaterial(map=p3.height_texture(a, 'viridis', rotation=90)))\n",
    "surf = p3.Mesh(geometry=grid,\n",
    "                material=p3.MeshBasicMaterial(map=texture))\n",
    "\n",
    "# surf = p3.GridHelper(size=N, divisions=N, colorCenterLine=\"#444444\",\n",
    "#                      colorGrid=\"#888888\", map=p3.height_texture(a, 'viridis'))\n",
    "\n",
    "camera = p3.PerspectiveCamera(position=[0, 0, 100],\n",
    "                              aspect=width / height)\n",
    "scene = p3.Scene(children=[surf, camera])\n",
    "controller = p3.OrbitControls(controlling=camera)\n",
    "renderer = p3.Renderer(camera=camera, scene=scene,\n",
    "                                 controls=[controller],\n",
    "                                 width=width,\n",
    "                                 height=height)\n",
    "# p3.WireframeGeometry(p3.GridHelper(size=10, divisions=10, colorCenterLine=\"#444444\", colorGrid=\"#888888\"))\n",
    "renderer"
   ]
  },
  {
   "cell_type": "code",
   "execution_count": 195,
   "metadata": {},
   "outputs": [
    {
     "name": "stdout",
     "output_type": "stream",
     "text": [
      "Help on function height_texture in module pythreejs.pythreejs:\n",
      "\n",
      "height_texture(z, colormap='viridis')\n",
      "    Create a texture corresponding to the heights in z and the given colormap.\n",
      "\n"
     ]
    }
   ],
   "source": [
    "help(p3.height_texture)"
   ]
  },
  {
   "cell_type": "code",
   "execution_count": 67,
   "metadata": {},
   "outputs": [
    {
     "data": {
      "application/vnd.jupyter.widget-view+json": {
       "model_id": "852f2c3c82a34588b919af85428c9606",
       "version_major": 2,
       "version_minor": 0
      },
      "text/plain": [
       "Preview(child=PlaneBufferGeometry(height=15.0, width=100.0), shadowMap=WebGLShadowMap())"
      ]
     },
     "metadata": {},
     "output_type": "display_data"
    }
   ],
   "source": [
    "p3.PlaneBufferGeometry(\n",
    "    width=100,\n",
    "    height=15,\n",
    "    widthSegments=1,\n",
    "    heightSegments=1)"
   ]
  },
  {
   "cell_type": "code",
   "execution_count": 128,
   "metadata": {},
   "outputs": [
    {
     "data": {
      "image/png": "[encoded data removed]",
      "text/plain": [
       "<Figure size 432x288 with 1 Axes>"
      ]
     },
     "metadata": {
      "needs_background": "light"
     },
     "output_type": "display_data"
    }
   ],
   "source": [
    "import matplotlib.pyplot as plt\n",
    "plt.plot(a[0, :])\n",
    "plt.show()"
   ]
  },
  {
   "cell_type": "code",
   "execution_count": 201,
   "metadata": {},
   "outputs": [
    {
     "data": {
      "application/vnd.jupyter.widget-view+json": {
       "model_id": "9f2691f59222487aa07172994fc7c8af",
       "version_major": 2,
       "version_minor": 0
      },
      "text/plain": [
       "Preview(child=DataTexture(data=array([[[0.273809, 0.031497, 0.358853, 1.      ],\n",
       "        [0.267004, 0.004874, …"
      ]
     },
     "metadata": {},
     "output_type": "display_data"
    }
   ],
   "source": [
    "texture"
   ]
  },
  {
   "cell_type": "code",
   "execution_count": 73,
   "metadata": {},
   "outputs": [],
   "source": [
    "grid = p3.PlaneGeometry(\n",
    "    width=N,\n",
    "    height=M,\n",
    "    widthSegments=N,\n",
    "    heightSegments=M)\n",
    "geom = p3.BufferGeometry.from_geometry(grid)"
   ]
  },
  {
   "cell_type": "code",
   "execution_count": 74,
   "metadata": {},
   "outputs": [],
   "source": [
    "from matplotlib import cm\n",
    "scalar_map = cm.ScalarMappable(cmap='viridis')\n",
    "colors = scalar_map.to_rgba(a.flat).astype(np.float32)\n",
    "# texture = p3.DataTexture(data=colors,\n",
    "#                          format=\"RGBAFormat\",\n",
    "#                          type=\"FloatType\", flipY=True)\n",
    "# #                          rotation=0.5*np.pi)\n",
    "# geom.attributes[\"color\"] = p3.BufferAttribute(array=np.repeat(colors[:, :3], 6, axis=0))\n",
    "geom.attributes[\"color\"] = p3.BufferAttribute(array=np.random.random([30000, 3]))"
   ]
  },
  {
   "cell_type": "code",
   "execution_count": 75,
   "metadata": {},
   "outputs": [
    {
     "data": {
      "application/vnd.jupyter.widget-view+json": {
       "model_id": "e661e55f80d04744bc223de7ebc0a1bb",
       "version_major": 2,
       "version_minor": 0
      },
      "text/plain": [
       "Preview(child=PlaneGeometry(height=50.0, heightSegments=50, width=100.0, widthSegments=100), shadowMap=WebGLSh…"
      ]
     },
     "metadata": {},
     "output_type": "display_data"
    }
   ],
   "source": [
    "grid"
   ]
  },
  {
   "cell_type": "code",
   "execution_count": 76,
   "metadata": {},
   "outputs": [],
   "source": [
    "# material=p3.MeshBasicMaterial(vertexColors='VertexColors')"
   ]
  },
  {
   "cell_type": "code",
   "execution_count": 77,
   "metadata": {},
   "outputs": [],
   "source": [
    "# surf = p3.Mesh(geometry=geom,\n",
    "#                 material=p3.MeshBasicMaterial(vertexColors='VertexColors'))\n",
    "surf = p3.Mesh(geometry=geom,\n",
    "                material=material)"
   ]
  },
  {
   "cell_type": "code",
   "execution_count": 78,
   "metadata": {},
   "outputs": [
    {
     "data": {
      "application/vnd.jupyter.widget-view+json": {
       "model_id": "db2c5f421b7b4b799aaae593ba1b8b6e",
       "version_major": 2,
       "version_minor": 0
      },
      "text/plain": [
       "Renderer(camera=PerspectiveCamera(aspect=1.5, position=(0.0, 0.0, 100.0), quaternion=(0.0, 0.0, 0.0, 1.0), sca…"
      ]
     },
     "metadata": {},
     "output_type": "display_data"
    }
   ],
   "source": [
    "width=600\n",
    "height=400\n",
    "camera = p3.PerspectiveCamera(position=[0, 0, 100],\n",
    "                              aspect=width / height)\n",
    "key_light = p3.DirectionalLight(position=[0, 10, 10])\n",
    "ambient_light = p3.AmbientLight()\n",
    "scene = p3.Scene(children=[surf, camera, key_light, ambient_light], background=\"red\")\n",
    "controller = p3.OrbitControls(controlling=camera)\n",
    "renderer = p3.Renderer(camera=camera, scene=scene,\n",
    "                                 controls=[controller],\n",
    "                                 width=width,\n",
    "                                 height=height)\n",
    "renderer"
   ]
  },
  {
   "cell_type": "code",
   "execution_count": 83,
   "metadata": {},
   "outputs": [
    {
     "data": {
      "text/plain": [
       "array([[0.  , 1.  ],\n",
       "       [0.  , 0.98],\n",
       "       [0.01, 1.  ],\n",
       "       [0.  , 0.98],\n",
       "       [0.01, 0.98],\n",
       "       [0.01, 1.  ],\n",
       "       [0.01, 1.  ],\n",
       "       [0.01, 0.98],\n",
       "       [0.02, 1.  ],\n",
       "       [0.01, 0.98],\n",
       "       [0.02, 0.98],\n",
       "       [0.02, 1.  ],\n",
       "       [0.02, 1.  ],\n",
       "       [0.02, 0.98],\n",
       "       [0.03, 1.  ],\n",
       "       [0.02, 0.98],\n",
       "       [0.03, 0.98],\n",
       "       [0.03, 1.  ],\n",
       "       [0.03, 1.  ],\n",
       "       [0.03, 0.98],\n",
       "       [0.04, 1.  ],\n",
       "       [0.03, 0.98],\n",
       "       [0.04, 0.98],\n",
       "       [0.04, 1.  ],\n",
       "       [0.04, 1.  ],\n",
       "       [0.04, 0.98],\n",
       "       [0.05, 1.  ],\n",
       "       [0.04, 0.98],\n",
       "       [0.05, 0.98],\n",
       "       [0.05, 1.  ],\n",
       "       [0.05, 1.  ],\n",
       "       [0.05, 0.98],\n",
       "       [0.06, 1.  ],\n",
       "       [0.05, 0.98],\n",
       "       [0.06, 0.98],\n",
       "       [0.06, 1.  ],\n",
       "       [0.06, 1.  ],\n",
       "       [0.06, 0.98],\n",
       "       [0.07, 1.  ],\n",
       "       [0.06, 0.98],\n",
       "       [0.07, 0.98],\n",
       "       [0.07, 1.  ],\n",
       "       [0.07, 1.  ],\n",
       "       [0.07, 0.98],\n",
       "       [0.08, 1.  ],\n",
       "       [0.07, 0.98],\n",
       "       [0.08, 0.98],\n",
       "       [0.08, 1.  ],\n",
       "       [0.08, 1.  ],\n",
       "       [0.08, 0.98],\n",
       "       [0.09, 1.  ],\n",
       "       [0.08, 0.98],\n",
       "       [0.09, 0.98],\n",
       "       [0.09, 1.  ],\n",
       "       [0.09, 1.  ],\n",
       "       [0.09, 0.98],\n",
       "       [0.1 , 1.  ],\n",
       "       [0.09, 0.98],\n",
       "       [0.1 , 0.98],\n",
       "       [0.1 , 1.  ],\n",
       "       [0.1 , 1.  ],\n",
       "       [0.1 , 0.98],\n",
       "       [0.11, 1.  ],\n",
       "       [0.1 , 0.98],\n",
       "       [0.11, 0.98],\n",
       "       [0.11, 1.  ],\n",
       "       [0.11, 1.  ],\n",
       "       [0.11, 0.98],\n",
       "       [0.12, 1.  ],\n",
       "       [0.11, 0.98],\n",
       "       [0.12, 0.98],\n",
       "       [0.12, 1.  ],\n",
       "       [0.12, 1.  ],\n",
       "       [0.12, 0.98],\n",
       "       [0.13, 1.  ],\n",
       "       [0.12, 0.98],\n",
       "       [0.13, 0.98],\n",
       "       [0.13, 1.  ],\n",
       "       [0.13, 1.  ],\n",
       "       [0.13, 0.98],\n",
       "       [0.14, 1.  ],\n",
       "       [0.13, 0.98],\n",
       "       [0.14, 0.98],\n",
       "       [0.14, 1.  ],\n",
       "       [0.14, 1.  ],\n",
       "       [0.14, 0.98],\n",
       "       [0.15, 1.  ],\n",
       "       [0.14, 0.98],\n",
       "       [0.15, 0.98],\n",
       "       [0.15, 1.  ],\n",
       "       [0.15, 1.  ],\n",
       "       [0.15, 0.98],\n",
       "       [0.16, 1.  ],\n",
       "       [0.15, 0.98],\n",
       "       [0.16, 0.98],\n",
       "       [0.16, 1.  ],\n",
       "       [0.16, 1.  ],\n",
       "       [0.16, 0.98],\n",
       "       [0.17, 1.  ],\n",
       "       [0.16, 0.98]], dtype=float32)"
      ]
     },
     "execution_count": 83,
     "metadata": {},
     "output_type": "execute_result"
    }
   ],
   "source": [
    "geom.attributes[\"uv\"].array[:100]"
   ]
  },
  {
   "cell_type": "code",
   "execution_count": 70,
   "metadata": {},
   "outputs": [],
   "source": [
    "material = p3.ShaderMaterial(\n",
    "    vertexShader='''\n",
    "precision highp float;\n",
    "varying vec4 vColor;\n",
    "varying vec3 vPosition;\n",
    "void main() {\n",
    "    vPosition = position;\n",
    "    vColor = vec4( color, 1.0);\n",
    "    gl_Position = projectionMatrix * modelViewMatrix * vec4( vPosition, 1.0 );\n",
    "}\n",
    "''',\n",
    "    fragmentShader='''\n",
    "precision highp float;\n",
    "varying vec4 vColor;\n",
    "void main() {\n",
    "    gl_FragColor = vec4( vColor );\n",
    "}\n",
    "}\n",
    "''',\n",
    "    vertexColors='VertexColors'\n",
    ")"
   ]
  },
  {
   "cell_type": "code",
   "execution_count": 37,
   "metadata": {
    "scrolled": false
   },
   "outputs": [
    {
     "data": {
      "text/plain": [
       "(5000, 4)"
      ]
     },
     "execution_count": 37,
     "metadata": {},
     "output_type": "execute_result"
    }
   ],
   "source": [
    "colors.shape"
   ]
  },
  {
   "cell_type": "code",
   "execution_count": 38,
   "metadata": {},
   "outputs": [
    {
     "data": {
      "text/plain": [
       "array([[0.273809, 0.031497, 0.358853, 1.      ],\n",
       "       [0.267004, 0.004874, 0.329415, 1.      ],\n",
       "       [0.267004, 0.004874, 0.329415, 1.      ],\n",
       "       ...,\n",
       "       [0.26851 , 0.009605, 0.335427, 1.      ],\n",
       "       [0.273809, 0.031497, 0.358853, 1.      ],\n",
       "       [0.280894, 0.078907, 0.402329, 1.      ]], dtype=float32)"
      ]
     },
     "execution_count": 38,
     "metadata": {},
     "output_type": "execute_result"
    }
   ],
   "source": [
    "colors"
   ]
  },
  {
   "cell_type": "code",
   "execution_count": 42,
   "metadata": {},
   "outputs": [
    {
     "data": {
      "text/plain": [
       "array([[0.273809, 0.031497, 0.358853],\n",
       "       [0.273809, 0.031497, 0.358853],\n",
       "       [0.273809, 0.031497, 0.358853],\n",
       "       [0.273809, 0.031497, 0.358853],\n",
       "       [0.273809, 0.031497, 0.358853],\n",
       "       [0.273809, 0.031497, 0.358853],\n",
       "       [0.267004, 0.004874, 0.329415],\n",
       "       [0.267004, 0.004874, 0.329415],\n",
       "       [0.267004, 0.004874, 0.329415],\n",
       "       [0.267004, 0.004874, 0.329415],\n",
       "       [0.267004, 0.004874, 0.329415],\n",
       "       [0.267004, 0.004874, 0.329415],\n",
       "       [0.267004, 0.004874, 0.329415],\n",
       "       [0.267004, 0.004874, 0.329415],\n",
       "       [0.267004, 0.004874, 0.329415],\n",
       "       [0.267004, 0.004874, 0.329415],\n",
       "       [0.267004, 0.004874, 0.329415],\n",
       "       [0.267004, 0.004874, 0.329415],\n",
       "       [0.274952, 0.037752, 0.364543],\n",
       "       [0.274952, 0.037752, 0.364543]], dtype=float32)"
      ]
     },
     "execution_count": 42,
     "metadata": {},
     "output_type": "execute_result"
    }
   ],
   "source": [
    "np.repeat(colors[:, :3], 6, axis=0)[:20]"
   ]
  },
  {
   "cell_type": "code",
   "execution_count": 40,
   "metadata": {},
   "outputs": [
    {
     "data": {
      "text/plain": [
       "10000"
      ]
     },
     "execution_count": 40,
     "metadata": {},
     "output_type": "execute_result"
    }
   ],
   "source": [
    "50*100*2"
   ]
  },
  {
   "cell_type": "code",
   "execution_count": 55,
   "metadata": {},
   "outputs": [
    {
     "data": {
      "text/plain": [
       "90000"
      ]
     },
     "execution_count": 55,
     "metadata": {},
     "output_type": "execute_result"
    }
   ],
   "source": [
    "50*100*18"
   ]
  },
  {
   "cell_type": "code",
   "execution_count": 56,
   "metadata": {},
   "outputs": [
    {
     "data": {
      "text/plain": [
       "90000"
      ]
     },
     "execution_count": 56,
     "metadata": {},
     "output_type": "execute_result"
    }
   ],
   "source": [
    "30000*3"
   ]
  },
  {
   "cell_type": "code",
   "execution_count": null,
   "metadata": {},
   "outputs": [],
   "source": []
  }
 ],
 "metadata": {
  "kernelspec": {
   "display_name": "Python 3",
   "language": "python",
   "name": "python3"
  },
  "language_info": {
   "codemirror_mode": {
    "name": "ipython",
    "version": 3
   },
   "file_extension": ".py",
   "mimetype": "text/x-python",
   "name": "python",
   "nbconvert_exporter": "python",
   "pygments_lexer": "ipython3",
   "version": "3.7.4"
  }
 },
 "nbformat": 4,
 "nbformat_minor": 2
}
