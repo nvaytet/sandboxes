{
 "cells": [
  {
   "cell_type": "code",
   "execution_count": 1,
   "metadata": {},
   "outputs": [],
   "source": [
    "import pythreejs as p3\n",
    "import numpy as np"
   ]
  },
  {
   "cell_type": "code",
   "execution_count": 2,
   "metadata": {},
   "outputs": [],
   "source": [
    "N = 101\n",
    "M = 51\n",
    "xx = np.arange(N, dtype=np.float32)\n",
    "yy = np.arange(M, dtype=np.float32)\n",
    "x, y = np.meshgrid(xx[:-1], yy[:-1],indexing=\"ij\")\n",
    "# y, x = np.meshgrid(yy, xx)\n",
    "b = N/20.0\n",
    "c = M/2.0\n",
    "r = np.sqrt(((x-c)/b)**2 + (y/b)**2)\n",
    "a = np.sin(r)"
   ]
  },
  {
   "cell_type": "code",
   "execution_count": 3,
   "metadata": {},
   "outputs": [
    {
     "data": {
      "text/plain": [
       "[array([[  0.,   0.,   0., ...,   0.,   0.,   0.],\n",
       "        [  1.,   1.,   1., ...,   1.,   1.,   1.],\n",
       "        [  2.,   2.,   2., ...,   2.,   2.,   2.],\n",
       "        ...,\n",
       "        [ 98.,  98.,  98., ...,  98.,  98.,  98.],\n",
       "        [ 99.,  99.,  99., ...,  99.,  99.,  99.],\n",
       "        [100., 100., 100., ..., 100., 100., 100.]], dtype=float32),\n",
       " array([[ 0.,  1.,  2., ..., 48., 49., 50.],\n",
       "        [ 0.,  1.,  2., ..., 48., 49., 50.],\n",
       "        [ 0.,  1.,  2., ..., 48., 49., 50.],\n",
       "        ...,\n",
       "        [ 0.,  1.,  2., ..., 48., 49., 50.],\n",
       "        [ 0.,  1.,  2., ..., 48., 49., 50.],\n",
       "        [ 0.,  1.,  2., ..., 48., 49., 50.]], dtype=float32)]"
      ]
     },
     "execution_count": 3,
     "metadata": {},
     "output_type": "execute_result"
    }
   ],
   "source": [
    "v_xy = np.meshgrid(xx, yy, indexing=\"ij\")\n",
    "v_xy"
   ]
  },
  {
   "cell_type": "code",
   "execution_count": null,
   "metadata": {},
   "outputs": [],
   "source": []
  },
  {
   "cell_type": "code",
   "execution_count": null,
   "metadata": {},
   "outputs": [],
   "source": []
  },
  {
   "cell_type": "code",
   "execution_count": 4,
   "metadata": {},
   "outputs": [
    {
     "data": {
      "application/vnd.jupyter.widget-view+json": {
       "model_id": "6895b0f6c71643159759af7b42affa93",
       "version_major": 2,
       "version_minor": 0
      },
      "text/plain": [
       "Renderer(camera=PerspectiveCamera(aspect=1.5, position=(0.0, 0.0, 2.0), quaternion=(0.0, 0.0, 0.0, 1.0), scale…"
      ]
     },
     "metadata": {},
     "output_type": "display_data"
    }
   ],
   "source": [
    "vertices = np.asarray([\n",
    "    [0, 0, 0],\n",
    "    [0, 1, 0],\n",
    "    [1, 0, 0],\n",
    "    [1, 1, 0],\n",
    "    [1, 0, 0],\n",
    "    [1, 1, 0],\n",
    "    [2, 0, 0],\n",
    "    [2, 1, 0],\n",
    "], dtype='float32')\n",
    "\n",
    "faces = np.asarray([\n",
    "    [0, 2, 1],\n",
    "    [2, 3, 1],\n",
    "    [4, 6, 5],\n",
    "    [6, 7, 5],\n",
    "], dtype='uint16').ravel()  # We need to flatten index array\n",
    "\n",
    "\n",
    "vertexcolors = np.asarray([(0,0,1), (0,0,1), (0,0,1), (0,0,1),\n",
    "                           (1,0,0), (1,0,0), (1,0,0), (1,0,0)], dtype='float32')\n",
    "\n",
    "cubeGeometry = p3.BufferGeometry(attributes=dict(\n",
    "    position=p3.BufferAttribute(vertices, normalized=False),\n",
    "    index=p3.BufferAttribute(faces, normalized=False),\n",
    "    color=p3.BufferAttribute(vertexcolors),\n",
    "))\n",
    "\n",
    "mesh = p3.Mesh(\n",
    "    geometry=cubeGeometry,\n",
    "    material=p3.MeshBasicMaterial(vertexColors='VertexColors'),\n",
    "    position=[-0.5, -0.5, -0.5]   # Center the cube\n",
    ")\n",
    "\n",
    "\n",
    "# cCube = p3.PerspectiveCamera(\n",
    "#     position=[3, 3, 3], fov=20,\n",
    "#     children=[DirectionalLight(color='#ffffff', position=[-3, 5, 1], intensity=0.5)])\n",
    "# sceneCube = p3.Scene(children=[myobjectCube, cCube, AmbientLight(color='#dddddd')])\n",
    "\n",
    "# rendererCube = p3.Renderer(camera=cCube, background='black', background_opacity=1,\n",
    "#                         scene = sceneCube, controls=[OrbitControls(controlling=cCube)])\n",
    "\n",
    "# rendererCube\n",
    "\n",
    "\n",
    "view_width = 600\n",
    "view_height = 400\n",
    "camera = p3.PerspectiveCamera(position=[0, 0, 2], aspect=view_width/view_height)\n",
    "# key_light = p3.DirectionalLight(position=[0, 10, 10])\n",
    "# ambient_light = p3.AmbientLight()\n",
    "scene = p3.Scene(children=[mesh, camera], background=\"#000000\")\n",
    "controller = p3.OrbitControls(controlling=camera)\n",
    "renderer = p3.Renderer(camera=camera, scene=scene, controls=[controller],\n",
    "                    width=view_width, height=view_height)\n",
    "renderer"
   ]
  },
  {
   "cell_type": "code",
   "execution_count": 5,
   "metadata": {},
   "outputs": [],
   "source": [
    "x = [0, 1, 2, 3]\n",
    "y = [6, 7, 8, 9]\n",
    "xg, yg = np.meshgrid(x, y, indexing=\"xy\")"
   ]
  },
  {
   "cell_type": "code",
   "execution_count": 6,
   "metadata": {},
   "outputs": [
    {
     "data": {
      "text/plain": [
       "array([[0, 1, 2, 3],\n",
       "       [0, 1, 2, 3],\n",
       "       [0, 1, 2, 3],\n",
       "       [0, 1, 2, 3]])"
      ]
     },
     "execution_count": 6,
     "metadata": {},
     "output_type": "execute_result"
    }
   ],
   "source": [
    "xg"
   ]
  },
  {
   "cell_type": "code",
   "execution_count": 7,
   "metadata": {},
   "outputs": [
    {
     "data": {
      "text/plain": [
       "array([[6, 6, 6, 6],\n",
       "       [7, 7, 7, 7],\n",
       "       [8, 8, 8, 8],\n",
       "       [9, 9, 9, 9]])"
      ]
     },
     "execution_count": 7,
     "metadata": {},
     "output_type": "execute_result"
    }
   ],
   "source": [
    "yg"
   ]
  },
  {
   "cell_type": "code",
   "execution_count": 8,
   "metadata": {},
   "outputs": [],
   "source": [
    "from scipy.spatial import Delaunay\n",
    "\n",
    "x = [0, 1, 2]\n",
    "y = [0, 1]\n",
    "xg, yg = np.meshgrid(x, y)\n",
    "xg = xg.flatten()\n",
    "yg = yg.flatten()\n",
    "points = np.array([xg, yg]).T"
   ]
  },
  {
   "cell_type": "code",
   "execution_count": 9,
   "metadata": {},
   "outputs": [],
   "source": [
    "tri = Delaunay(points)\n",
    "ntetra = np.shape(tri.simplices)[0]\n",
    "nverts = ntetra*4"
   ]
  },
  {
   "cell_type": "code",
   "execution_count": 10,
   "metadata": {},
   "outputs": [
    {
     "data": {
      "image/png": "[encoded data removed]",
      "text/plain": [
       "<Figure size 432x288 with 1 Axes>"
      ]
     },
     "metadata": {
      "needs_background": "light"
     },
     "output_type": "display_data"
    }
   ],
   "source": [
    "import matplotlib.pyplot as plt\n",
    "plt.triplot(points[:,0], points[:,1], tri.simplices.copy())\n",
    "plt.plot(points[:,0], points[:,1], 'o')\n",
    "plt.show()"
   ]
  },
  {
   "cell_type": "code",
   "execution_count": 11,
   "metadata": {},
   "outputs": [
    {
     "data": {
      "text/plain": [
       "4"
      ]
     },
     "execution_count": 11,
     "metadata": {},
     "output_type": "execute_result"
    }
   ],
   "source": [
    "ntetra"
   ]
  },
  {
   "cell_type": "code",
   "execution_count": 12,
   "metadata": {},
   "outputs": [
    {
     "data": {
      "text/plain": [
       "array([[1, 1, 0],\n",
       "       [1, 0, 0],\n",
       "       [2, 1, 2],\n",
       "       [1, 1, 2]])"
      ]
     },
     "execution_count": 12,
     "metadata": {},
     "output_type": "execute_result"
    }
   ],
   "source": [
    "xg[tri.simplices]"
   ]
  },
  {
   "cell_type": "code",
   "execution_count": 13,
   "metadata": {},
   "outputs": [
    {
     "data": {
      "text/plain": [
       "array([1, 4, 0, 4, 3, 0, 5, 4, 2, 4, 1, 2], dtype=uint16)"
      ]
     },
     "execution_count": 13,
     "metadata": {},
     "output_type": "execute_result"
    }
   ],
   "source": [
    "vertices = np.array(points, dtype='float32')\n",
    "faces = np.array(tri.simplices, dtype='uint16').ravel()\n",
    "\n",
    "# faces = np.asarray([\n",
    "#     [0, 2, 1],\n",
    "#     [2, 3, 1],\n",
    "#     [4, 6, 5],\n",
    "#     [6, 7, 5],\n",
    "# ], dtype='uint16').ravel()  # We need to flatten index array\n",
    "faces"
   ]
  },
  {
   "cell_type": "code",
   "execution_count": 16,
   "metadata": {},
   "outputs": [
    {
     "data": {
      "application/vnd.jupyter.widget-view+json": {
       "model_id": "953de1b6e87c46eda410a52cfb1c8e72",
       "version_major": 2,
       "version_minor": 0
      },
      "text/plain": [
       "Renderer(camera=PerspectiveCamera(aspect=1.5, position=(0.0, 0.0, 2.0), quaternion=(0.0, 0.0, 0.0, 1.0), scale…"
      ]
     },
     "metadata": {},
     "output_type": "display_data"
    }
   ],
   "source": [
    "# vertexcolors = np.repeat(np.asarray([(0,0,1), (0,0,1),\n",
    "#                            (1,0,0), (1,0,0)], dtype='float32'), 3, axis=0)\n",
    "vertexcolors = np.asarray([(0,0,1), (0,0,1),\n",
    "                           (1,0,0), (1,0,0)], dtype='float32')\n",
    "\n",
    "cubeGeometry = p3.BufferGeometry(attributes=dict(\n",
    "    position=p3.BufferAttribute(vertices, normalized=False),\n",
    "    index=p3.BufferAttribute(faces, normalized=False),\n",
    "    color=p3.BufferAttribute(vertexcolors),\n",
    "))\n",
    "\n",
    "mesh = p3.Mesh(\n",
    "    geometry=cubeGeometry,\n",
    "#     material=p3.MeshBasicMaterial(vertexColors='VertexColors'),\n",
    "    material=p3.MeshBasicMaterial(vertexColors='FaceColors'),\n",
    "    position=[-0.5, -0.5, -0.5]   # Center the cube\n",
    ")\n",
    "\n",
    "\n",
    "# cCube = p3.PerspectiveCamera(\n",
    "#     position=[3, 3, 3], fov=20,\n",
    "#     children=[DirectionalLight(color='#ffffff', position=[-3, 5, 1], intensity=0.5)])\n",
    "# sceneCube = p3.Scene(children=[myobjectCube, cCube, AmbientLight(color='#dddddd')])\n",
    "\n",
    "# rendererCube = p3.Renderer(camera=cCube, background='black', background_opacity=1,\n",
    "#                         scene = sceneCube, controls=[OrbitControls(controlling=cCube)])\n",
    "\n",
    "# rendererCube\n",
    "\n",
    "\n",
    "view_width = 600\n",
    "view_height = 400\n",
    "camera = p3.PerspectiveCamera(position=[0, 0, 2], aspect=view_width/view_height)\n",
    "# key_light = p3.DirectionalLight(position=[0, 10, 10])\n",
    "# ambient_light = p3.AmbientLight()\n",
    "scene = p3.Scene(children=[mesh, camera], background=\"#000000\")\n",
    "controller = p3.OrbitControls(controlling=camera)\n",
    "renderer = p3.Renderer(camera=camera, scene=scene, controls=[controller],\n",
    "                    width=view_width, height=view_height)\n",
    "renderer"
   ]
  },
  {
   "cell_type": "code",
   "execution_count": 53,
   "metadata": {},
   "outputs": [
    {
     "data": {
      "text/plain": [
       "array([[0, 0],\n",
       "       [1, 0],\n",
       "       [2, 0],\n",
       "       [0, 1],\n",
       "       [1, 1],\n",
       "       [2, 1]])"
      ]
     },
     "execution_count": 53,
     "metadata": {},
     "output_type": "execute_result"
    }
   ],
   "source": [
    "points"
   ]
  },
  {
   "cell_type": "code",
   "execution_count": null,
   "metadata": {},
   "outputs": [],
   "source": []
  }
 ],
 "metadata": {
  "kernelspec": {
   "display_name": "Python 3",
   "language": "python",
   "name": "python3"
  },
  "language_info": {
   "codemirror_mode": {
    "name": "ipython",
    "version": 3
   },
   "file_extension": ".py",
   "mimetype": "text/x-python",
   "name": "python",
   "nbconvert_exporter": "python",
   "pygments_lexer": "ipython3",
   "version": "3.7.4"
  }
 },
 "nbformat": 4,
 "nbformat_minor": 2
}
