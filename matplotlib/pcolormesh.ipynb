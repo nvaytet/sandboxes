{
 "cells": [
  {
   "cell_type": "code",
   "execution_count": null,
   "metadata": {},
   "outputs": [],
   "source": [
    "import numpy as np\n",
    "import matplotlib.pyplot as plt"
   ]
  },
  {
   "cell_type": "code",
   "execution_count": null,
   "metadata": {},
   "outputs": [],
   "source": [
    "%matplotlib notebook"
   ]
  },
  {
   "cell_type": "code",
   "execution_count": null,
   "metadata": {},
   "outputs": [],
   "source": [
    "N = 10\n",
    "M = 5\n",
    "# xx = np.arange(N+1, dtype=np.float64)\n",
    "# yy = np.arange(M+1, dtype=np.float64)\n",
    "xx = np.arange(N+1, dtype=float)\n",
    "yy = np.arange(M+1, dtype=float)\n",
    "x, y = np.meshgrid(xx, yy)\n",
    "# b = N/20.0\n",
    "# c = M/2.0\n",
    "# r = np.sqrt(((x[:-1, :-1]-c)/b)**2 + (y[:-1, :-1]/b)**2)\n",
    "# a = np.sin(r)\n",
    "# for i in range(len(x)):\n",
    "#     x[i, :] *= (1.0 + 0.1*i)\n",
    "z = np.random.random([M, N])"
   ]
  },
  {
   "cell_type": "code",
   "execution_count": null,
   "metadata": {},
   "outputs": [],
   "source": [
    "fig, ax = plt.subplots()\n",
    "m = ax.pcolormesh(x, y, z)"
   ]
  },
  {
   "cell_type": "code",
   "execution_count": null,
   "metadata": {
    "scrolled": false
   },
   "outputs": [],
   "source": [
    "m.set_array(np.random.random([M, N]))"
   ]
  },
  {
   "cell_type": "code",
   "execution_count": null,
   "metadata": {},
   "outputs": [],
   "source": [
    "fig.canvas.draw()"
   ]
  },
  {
   "cell_type": "code",
   "execution_count": null,
   "metadata": {},
   "outputs": [],
   "source": [
    "xx2 = np.arange(N+1, dtype=float) * 0.66\n",
    "yy2 = np.arange(M+1, dtype=float) * 0.66\n",
    "x2, y2 = np.meshgrid(xx2, yy2)"
   ]
  },
  {
   "cell_type": "code",
   "execution_count": null,
   "metadata": {},
   "outputs": [],
   "source": [
    "import matplotlib\n",
    "m2 = matplotlib.collections.QuadMesh(N, M, np.array([x2, y2]))"
   ]
  },
  {
   "cell_type": "code",
   "execution_count": null,
   "metadata": {},
   "outputs": [],
   "source": [
    "m2.get_paths()"
   ]
  },
  {
   "cell_type": "code",
   "execution_count": null,
   "metadata": {
    "scrolled": false
   },
   "outputs": [],
   "source": [
    "m.get_offsets()"
   ]
  },
  {
   "cell_type": "code",
   "execution_count": null,
   "metadata": {
    "scrolled": false
   },
   "outputs": [],
   "source": [
    "m.get_paths()"
   ]
  },
  {
   "cell_type": "code",
   "execution_count": null,
   "metadata": {},
   "outputs": [],
   "source": []
  },
  {
   "cell_type": "code",
   "execution_count": null,
   "metadata": {},
   "outputs": [],
   "source": []
  },
  {
   "cell_type": "code",
   "execution_count": null,
   "metadata": {
    "scrolled": false
   },
   "outputs": [],
   "source": [
    "dir(m)"
   ]
  },
  {
   "cell_type": "code",
   "execution_count": null,
   "metadata": {},
   "outputs": [],
   "source": []
  },
  {
   "cell_type": "code",
   "execution_count": null,
   "metadata": {},
   "outputs": [],
   "source": [
    "res = 256\n",
    "nx = res\n",
    "ny = res\n",
    "xmin = 0.0\n",
    "xmax = x[-1]\n",
    "dx = (xmax - xmin)/float(nx)\n",
    "xe = np.linspace(xmin, xmax, nx+1)\n",
    "xc = np.linspace(xmin + 0.5*dx, xmax - 0.5*dx, nx)\n",
    "ymin = 0.0\n",
    "ymax = y[-1]\n",
    "dy = (ymax - ymin)/float(ny)\n",
    "ye = np.linspace(ymin, ymax, ny+1)\n",
    "yc = np.linspace(ymin + 0.5*dy, ymax - 0.5*dy, ny)\n",
    "xg, yg = np.meshgrid(xc, yc)"
   ]
  },
  {
   "cell_type": "code",
   "execution_count": null,
   "metadata": {},
   "outputs": [],
   "source": []
  },
  {
   "cell_type": "code",
   "execution_count": null,
   "metadata": {},
   "outputs": [],
   "source": []
  },
  {
   "cell_type": "code",
   "execution_count": null,
   "metadata": {},
   "outputs": [],
   "source": [
    "from scipy.interpolate import griddata\n",
    "from scipy.stats import binned_statistic_2d\n",
    "\n",
    "results, y_edges, x_edges, bin_number = binned_statistic_2d(\n",
    "    x=y.ravel(), y=x.ravel(), values=[z.ravel()], statistic='mean', bins=[ye, xe])\n",
    "\n",
    "subs = np.where(np.isfinite(results[0].ravel()))\n",
    "points = np.transpose([xg.ravel()[subs], yg.ravel()[subs]])"
   ]
  },
  {
   "cell_type": "code",
   "execution_count": null,
   "metadata": {},
   "outputs": [],
   "source": []
  }
 ],
 "metadata": {
  "kernelspec": {
   "display_name": "Python 3",
   "language": "python",
   "name": "python3"
  },
  "language_info": {
   "codemirror_mode": {
    "name": "ipython",
    "version": 3
   },
   "file_extension": ".py",
   "mimetype": "text/x-python",
   "name": "python",
   "nbconvert_exporter": "python",
   "pygments_lexer": "ipython3",
   "version": "3.9.1"
  }
 },
 "nbformat": 4,
 "nbformat_minor": 4
}
